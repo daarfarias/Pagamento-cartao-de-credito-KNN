{
 "cells": [
  {
   "cell_type": "markdown",
   "id": "radio-technology",
   "metadata": {},
   "source": [
    "# PAGAMENTO CARTÃO DE CRÉDITO (KNN)"
   ]
  },
  {
   "cell_type": "markdown",
   "id": "acquired-transition",
   "metadata": {},
   "source": [
    "## INTRODUÇÃO"
   ]
  },
  {
   "cell_type": "markdown",
   "id": "traditional-halifax",
   "metadata": {},
   "source": [
    "\n",
    "O presente projeto tem como escopo construir um modelo de machine learning para prever a probabilidade de inadimplência no pagamento do cartão de crédito por clientes de um banco. O dataset possui 30000 linhas e 24 variáveis, possuindo a variável binária (*default payment next month*) que usamos como variável dependente. Essa variável indica o status de pagamento do cartão, ou seja, se ele foi ou não efetuado. Para tal, construímos cinco modelos de previsão, utilizando o algoritmo KNN.\n",
    "\n",
    "\n",
    "Dados: https://archive.ics.uci.edu/ml/datasets/default+of+credit+card+clients"
   ]
  },
  {
   "cell_type": "markdown",
   "id": "waiting-still",
   "metadata": {},
   "source": [
    "## 1. CARREGANDO PACOTES E IMPORTANDO OS DADOS"
   ]
  },
  {
   "cell_type": "code",
   "execution_count": 1,
   "id": "electrical-mathematics",
   "metadata": {},
   "outputs": [
    {
     "name": "stderr",
     "output_type": "stream",
     "text": [
      "Warning message:\n",
      "\"package 'ISLR' was built under R version 3.6.3\"Warning message:\n",
      "\"package 'caret' was built under R version 3.6.3\"Loading required package: lattice\n",
      "Loading required package: ggplot2\n",
      "Warning message:\n",
      "\"package 'ggplot2' was built under R version 3.6.3\"Warning message:\n",
      "\"package 'e1071' was built under R version 3.6.3\"Warning message:\n",
      "\"package 'tidyverse' was built under R version 3.6.3\"-- Attaching packages --------------------------------------- tidyverse 1.3.0 --\n",
      "v tibble  3.0.6     v dplyr   1.0.4\n",
      "v tidyr   1.1.2     v stringr 1.4.0\n",
      "v readr   1.3.1     v forcats 0.4.0\n",
      "v purrr   0.3.4     \n",
      "Warning message:\n",
      "\"package 'tibble' was built under R version 3.6.3\"Warning message:\n",
      "\"package 'tidyr' was built under R version 3.6.3\"Warning message:\n",
      "\"package 'purrr' was built under R version 3.6.3\"Warning message:\n",
      "\"package 'dplyr' was built under R version 3.6.3\"-- Conflicts ------------------------------------------ tidyverse_conflicts() --\n",
      "x dplyr::filter() masks stats::filter()\n",
      "x dplyr::lag()    masks stats::lag()\n",
      "x purrr::lift()   masks caret::lift()\n",
      "Warning message:\n",
      "\"package 'Amelia' was built under R version 3.6.3\"Loading required package: Rcpp\n",
      "## \n",
      "## Amelia II: Multiple Imputation\n",
      "## (Version 1.7.6, built: 2019-11-24)\n",
      "## Copyright (C) 2005-2021 James Honaker, Gary King and Matthew Blackwell\n",
      "## Refer to http://gking.harvard.edu/amelia/ for more information\n",
      "## \n",
      "Warning message:\n",
      "\"package 'DMwR' was built under R version 3.6.3\"Loading required package: grid\n",
      "Registered S3 method overwritten by 'xts':\n",
      "  method     from\n",
      "  as.zoo.xts zoo \n",
      "Registered S3 method overwritten by 'quantmod':\n",
      "  method            from\n",
      "  as.zoo.data.frame zoo \n",
      "Warning message:\n",
      "\"package 'gridExtra' was built under R version 3.6.3\"\n",
      "Attaching package: 'gridExtra'\n",
      "\n",
      "The following object is masked from 'package:dplyr':\n",
      "\n",
      "    combine\n",
      "\n"
     ]
    }
   ],
   "source": [
    "# Carregando os pacotes\n",
    "library(ISLR)\n",
    "library(caret)\n",
    "library(e1071)\n",
    "library(tidyverse)\n",
    "library(Amelia)\n",
    "library(DMwR)\n",
    "library(gridExtra)"
   ]
  },
  {
   "cell_type": "code",
   "execution_count": 2,
   "id": "realistic-preparation",
   "metadata": {},
   "outputs": [],
   "source": [
    "# Carregar dados \n",
    "df_clientes<- read.csv(\"dataset.csv\")"
   ]
  },
  {
   "cell_type": "code",
   "execution_count": 3,
   "id": "residential-liverpool",
   "metadata": {},
   "outputs": [
    {
     "data": {
      "text/plain": [
       "       ID          LIMIT_BAL            SEX          EDUCATION    \n",
       " Min.   :    1   Min.   :  10000   Min.   :1.000   Min.   :0.000  \n",
       " 1st Qu.: 7501   1st Qu.:  50000   1st Qu.:1.000   1st Qu.:1.000  \n",
       " Median :15000   Median : 140000   Median :2.000   Median :2.000  \n",
       " Mean   :15000   Mean   : 167484   Mean   :1.604   Mean   :1.853  \n",
       " 3rd Qu.:22500   3rd Qu.: 240000   3rd Qu.:2.000   3rd Qu.:2.000  \n",
       " Max.   :30000   Max.   :1000000   Max.   :2.000   Max.   :6.000  \n",
       "    MARRIAGE          AGE            PAY_0             PAY_2        \n",
       " Min.   :0.000   Min.   :21.00   Min.   :-2.0000   Min.   :-2.0000  \n",
       " 1st Qu.:1.000   1st Qu.:28.00   1st Qu.:-1.0000   1st Qu.:-1.0000  \n",
       " Median :2.000   Median :34.00   Median : 0.0000   Median : 0.0000  \n",
       " Mean   :1.552   Mean   :35.49   Mean   :-0.0167   Mean   :-0.1338  \n",
       " 3rd Qu.:2.000   3rd Qu.:41.00   3rd Qu.: 0.0000   3rd Qu.: 0.0000  \n",
       " Max.   :3.000   Max.   :79.00   Max.   : 8.0000   Max.   : 8.0000  \n",
       "     PAY_3             PAY_4             PAY_5             PAY_6        \n",
       " Min.   :-2.0000   Min.   :-2.0000   Min.   :-2.0000   Min.   :-2.0000  \n",
       " 1st Qu.:-1.0000   1st Qu.:-1.0000   1st Qu.:-1.0000   1st Qu.:-1.0000  \n",
       " Median : 0.0000   Median : 0.0000   Median : 0.0000   Median : 0.0000  \n",
       " Mean   :-0.1662   Mean   :-0.2207   Mean   :-0.2662   Mean   :-0.2911  \n",
       " 3rd Qu.: 0.0000   3rd Qu.: 0.0000   3rd Qu.: 0.0000   3rd Qu.: 0.0000  \n",
       " Max.   : 8.0000   Max.   : 8.0000   Max.   : 8.0000   Max.   : 8.0000  \n",
       "   BILL_AMT1         BILL_AMT2        BILL_AMT3         BILL_AMT4      \n",
       " Min.   :-165580   Min.   :-69777   Min.   :-157264   Min.   :-170000  \n",
       " 1st Qu.:   3559   1st Qu.:  2985   1st Qu.:   2666   1st Qu.:   2327  \n",
       " Median :  22382   Median : 21200   Median :  20089   Median :  19052  \n",
       " Mean   :  51223   Mean   : 49179   Mean   :  47013   Mean   :  43263  \n",
       " 3rd Qu.:  67091   3rd Qu.: 64006   3rd Qu.:  60165   3rd Qu.:  54506  \n",
       " Max.   : 964511   Max.   :983931   Max.   :1664089   Max.   : 891586  \n",
       "   BILL_AMT5        BILL_AMT6          PAY_AMT1         PAY_AMT2      \n",
       " Min.   :-81334   Min.   :-339603   Min.   :     0   Min.   :      0  \n",
       " 1st Qu.:  1763   1st Qu.:   1256   1st Qu.:  1000   1st Qu.:    833  \n",
       " Median : 18105   Median :  17071   Median :  2100   Median :   2009  \n",
       " Mean   : 40311   Mean   :  38872   Mean   :  5664   Mean   :   5921  \n",
       " 3rd Qu.: 50191   3rd Qu.:  49198   3rd Qu.:  5006   3rd Qu.:   5000  \n",
       " Max.   :927171   Max.   : 961664   Max.   :873552   Max.   :1684259  \n",
       "    PAY_AMT3         PAY_AMT4         PAY_AMT5           PAY_AMT6       \n",
       " Min.   :     0   Min.   :     0   Min.   :     0.0   Min.   :     0.0  \n",
       " 1st Qu.:   390   1st Qu.:   296   1st Qu.:   252.5   1st Qu.:   117.8  \n",
       " Median :  1800   Median :  1500   Median :  1500.0   Median :  1500.0  \n",
       " Mean   :  5226   Mean   :  4826   Mean   :  4799.4   Mean   :  5215.5  \n",
       " 3rd Qu.:  4505   3rd Qu.:  4013   3rd Qu.:  4031.5   3rd Qu.:  4000.0  \n",
       " Max.   :896040   Max.   :621000   Max.   :426529.0   Max.   :528666.0  \n",
       " default.payment.next.month\n",
       " Min.   :0.0000            \n",
       " 1st Qu.:0.0000            \n",
       " Median :0.0000            \n",
       " Mean   :0.2212            \n",
       " 3rd Qu.:0.0000            \n",
       " Max.   :1.0000            "
      ]
     },
     "metadata": {},
     "output_type": "display_data"
    }
   ],
   "source": [
    "# Sumário dos dados\n",
    "summary(df_clientes)"
   ]
  },
  {
   "cell_type": "code",
   "execution_count": 4,
   "id": "honest-breast",
   "metadata": {},
   "outputs": [
    {
     "data": {
      "text/html": [
       "<table>\n",
       "<thead><tr><th scope=col>ID</th><th scope=col>LIMIT_BAL</th><th scope=col>SEX</th><th scope=col>EDUCATION</th><th scope=col>MARRIAGE</th><th scope=col>AGE</th><th scope=col>PAY_0</th><th scope=col>PAY_2</th><th scope=col>PAY_3</th><th scope=col>PAY_4</th><th scope=col>...</th><th scope=col>BILL_AMT4</th><th scope=col>BILL_AMT5</th><th scope=col>BILL_AMT6</th><th scope=col>PAY_AMT1</th><th scope=col>PAY_AMT2</th><th scope=col>PAY_AMT3</th><th scope=col>PAY_AMT4</th><th scope=col>PAY_AMT5</th><th scope=col>PAY_AMT6</th><th scope=col>default.payment.next.month</th></tr></thead>\n",
       "<tbody>\n",
       "\t<tr><td>1     </td><td> 20000</td><td>2     </td><td>2     </td><td>1     </td><td>24    </td><td> 2    </td><td>2     </td><td>-1    </td><td>-1    </td><td>...   </td><td>    0 </td><td>    0 </td><td>    0 </td><td>   0  </td><td>  689 </td><td>    0 </td><td>   0  </td><td>   0  </td><td>   0  </td><td>1     </td></tr>\n",
       "\t<tr><td>2     </td><td>120000</td><td>2     </td><td>2     </td><td>2     </td><td>26    </td><td>-1    </td><td>2     </td><td> 0    </td><td> 0    </td><td>...   </td><td> 3272 </td><td> 3455 </td><td> 3261 </td><td>   0  </td><td> 1000 </td><td> 1000 </td><td>1000  </td><td>   0  </td><td>2000  </td><td>1     </td></tr>\n",
       "\t<tr><td>3     </td><td> 90000</td><td>2     </td><td>2     </td><td>2     </td><td>34    </td><td> 0    </td><td>0     </td><td> 0    </td><td> 0    </td><td>...   </td><td>14331 </td><td>14948 </td><td>15549 </td><td>1518  </td><td> 1500 </td><td> 1000 </td><td>1000  </td><td>1000  </td><td>5000  </td><td>0     </td></tr>\n",
       "\t<tr><td>4     </td><td> 50000</td><td>2     </td><td>2     </td><td>1     </td><td>37    </td><td> 0    </td><td>0     </td><td> 0    </td><td> 0    </td><td>...   </td><td>28314 </td><td>28959 </td><td>29547 </td><td>2000  </td><td> 2019 </td><td> 1200 </td><td>1100  </td><td>1069  </td><td>1000  </td><td>0     </td></tr>\n",
       "\t<tr><td>5     </td><td> 50000</td><td>1     </td><td>2     </td><td>1     </td><td>57    </td><td>-1    </td><td>0     </td><td>-1    </td><td> 0    </td><td>...   </td><td>20940 </td><td>19146 </td><td>19131 </td><td>2000  </td><td>36681 </td><td>10000 </td><td>9000  </td><td> 689  </td><td> 679  </td><td>0     </td></tr>\n",
       "\t<tr><td>6     </td><td> 50000</td><td>1     </td><td>1     </td><td>2     </td><td>37    </td><td> 0    </td><td>0     </td><td> 0    </td><td> 0    </td><td>...   </td><td>19394 </td><td>19619 </td><td>20024 </td><td>2500  </td><td> 1815 </td><td>  657 </td><td>1000  </td><td>1000  </td><td> 800  </td><td>0     </td></tr>\n",
       "</tbody>\n",
       "</table>\n"
      ],
      "text/latex": [
       "\\begin{tabular}{r|lllllllllllllllllllllllll}\n",
       " ID & LIMIT\\_BAL & SEX & EDUCATION & MARRIAGE & AGE & PAY\\_0 & PAY\\_2 & PAY\\_3 & PAY\\_4 & ... & BILL\\_AMT4 & BILL\\_AMT5 & BILL\\_AMT6 & PAY\\_AMT1 & PAY\\_AMT2 & PAY\\_AMT3 & PAY\\_AMT4 & PAY\\_AMT5 & PAY\\_AMT6 & default.payment.next.month\\\\\n",
       "\\hline\n",
       "\t 1      &  20000 & 2      & 2      & 1      & 24     &  2     & 2      & -1     & -1     & ...    &     0  &     0  &     0  &    0   &   689  &     0  &    0   &    0   &    0   & 1     \\\\\n",
       "\t 2      & 120000 & 2      & 2      & 2      & 26     & -1     & 2      &  0     &  0     & ...    &  3272  &  3455  &  3261  &    0   &  1000  &  1000  & 1000   &    0   & 2000   & 1     \\\\\n",
       "\t 3      &  90000 & 2      & 2      & 2      & 34     &  0     & 0      &  0     &  0     & ...    & 14331  & 14948  & 15549  & 1518   &  1500  &  1000  & 1000   & 1000   & 5000   & 0     \\\\\n",
       "\t 4      &  50000 & 2      & 2      & 1      & 37     &  0     & 0      &  0     &  0     & ...    & 28314  & 28959  & 29547  & 2000   &  2019  &  1200  & 1100   & 1069   & 1000   & 0     \\\\\n",
       "\t 5      &  50000 & 1      & 2      & 1      & 57     & -1     & 0      & -1     &  0     & ...    & 20940  & 19146  & 19131  & 2000   & 36681  & 10000  & 9000   &  689   &  679   & 0     \\\\\n",
       "\t 6      &  50000 & 1      & 1      & 2      & 37     &  0     & 0      &  0     &  0     & ...    & 19394  & 19619  & 20024  & 2500   &  1815  &   657  & 1000   & 1000   &  800   & 0     \\\\\n",
       "\\end{tabular}\n"
      ],
      "text/markdown": [
       "\n",
       "| ID | LIMIT_BAL | SEX | EDUCATION | MARRIAGE | AGE | PAY_0 | PAY_2 | PAY_3 | PAY_4 | ... | BILL_AMT4 | BILL_AMT5 | BILL_AMT6 | PAY_AMT1 | PAY_AMT2 | PAY_AMT3 | PAY_AMT4 | PAY_AMT5 | PAY_AMT6 | default.payment.next.month |\n",
       "|---|---|---|---|---|---|---|---|---|---|---|---|---|---|---|---|---|---|---|---|---|\n",
       "| 1      |  20000 | 2      | 2      | 1      | 24     |  2     | 2      | -1     | -1     | ...    |     0  |     0  |     0  |    0   |   689  |     0  |    0   |    0   |    0   | 1      |\n",
       "| 2      | 120000 | 2      | 2      | 2      | 26     | -1     | 2      |  0     |  0     | ...    |  3272  |  3455  |  3261  |    0   |  1000  |  1000  | 1000   |    0   | 2000   | 1      |\n",
       "| 3      |  90000 | 2      | 2      | 2      | 34     |  0     | 0      |  0     |  0     | ...    | 14331  | 14948  | 15549  | 1518   |  1500  |  1000  | 1000   | 1000   | 5000   | 0      |\n",
       "| 4      |  50000 | 2      | 2      | 1      | 37     |  0     | 0      |  0     |  0     | ...    | 28314  | 28959  | 29547  | 2000   |  2019  |  1200  | 1100   | 1069   | 1000   | 0      |\n",
       "| 5      |  50000 | 1      | 2      | 1      | 57     | -1     | 0      | -1     |  0     | ...    | 20940  | 19146  | 19131  | 2000   | 36681  | 10000  | 9000   |  689   |  679   | 0      |\n",
       "| 6      |  50000 | 1      | 1      | 2      | 37     |  0     | 0      |  0     |  0     | ...    | 19394  | 19619  | 20024  | 2500   |  1815  |   657  | 1000   | 1000   |  800   | 0      |\n",
       "\n"
      ],
      "text/plain": [
       "  ID LIMIT_BAL SEX EDUCATION MARRIAGE AGE PAY_0 PAY_2 PAY_3 PAY_4 ... BILL_AMT4\n",
       "1 1   20000    2   2         1        24   2    2     -1    -1    ...     0    \n",
       "2 2  120000    2   2         2        26  -1    2      0     0    ...  3272    \n",
       "3 3   90000    2   2         2        34   0    0      0     0    ... 14331    \n",
       "4 4   50000    2   2         1        37   0    0      0     0    ... 28314    \n",
       "5 5   50000    1   2         1        57  -1    0     -1     0    ... 20940    \n",
       "6 6   50000    1   1         2        37   0    0      0     0    ... 19394    \n",
       "  BILL_AMT5 BILL_AMT6 PAY_AMT1 PAY_AMT2 PAY_AMT3 PAY_AMT4 PAY_AMT5 PAY_AMT6\n",
       "1     0         0        0       689        0       0        0        0    \n",
       "2  3455      3261        0      1000     1000    1000        0     2000    \n",
       "3 14948     15549     1518      1500     1000    1000     1000     5000    \n",
       "4 28959     29547     2000      2019     1200    1100     1069     1000    \n",
       "5 19146     19131     2000     36681    10000    9000      689      679    \n",
       "6 19619     20024     2500      1815      657    1000     1000      800    \n",
       "  default.payment.next.month\n",
       "1 1                         \n",
       "2 1                         \n",
       "3 0                         \n",
       "4 0                         \n",
       "5 0                         \n",
       "6 0                         "
      ]
     },
     "metadata": {},
     "output_type": "display_data"
    }
   ],
   "source": [
    "# Visualizar as seis primeiras linhas do dataset\n",
    "head(df_clientes)"
   ]
  },
  {
   "cell_type": "code",
   "execution_count": 5,
   "id": "nutritional-cream",
   "metadata": {},
   "outputs": [
    {
     "data": {
      "text/html": [
       "<table>\n",
       "<thead><tr><th></th><th scope=col>ID</th><th scope=col>LIMIT_BAL</th><th scope=col>SEX</th><th scope=col>EDUCATION</th><th scope=col>MARRIAGE</th><th scope=col>AGE</th><th scope=col>PAY_0</th><th scope=col>PAY_2</th><th scope=col>PAY_3</th><th scope=col>PAY_4</th><th scope=col>...</th><th scope=col>BILL_AMT4</th><th scope=col>BILL_AMT5</th><th scope=col>BILL_AMT6</th><th scope=col>PAY_AMT1</th><th scope=col>PAY_AMT2</th><th scope=col>PAY_AMT3</th><th scope=col>PAY_AMT4</th><th scope=col>PAY_AMT5</th><th scope=col>PAY_AMT6</th><th scope=col>default.payment.next.month</th></tr></thead>\n",
       "<tbody>\n",
       "\t<tr><th scope=row>29995</th><td>29995 </td><td> 80000</td><td>1     </td><td>2     </td><td>2     </td><td>34    </td><td> 2    </td><td> 2    </td><td> 2    </td><td> 2    </td><td>...   </td><td>77519 </td><td>82607 </td><td>81158 </td><td> 7000 </td><td> 3500 </td><td>    0 </td><td>7000  </td><td>    0 </td><td>4000  </td><td>1     </td></tr>\n",
       "\t<tr><th scope=row>29996</th><td>29996 </td><td>220000</td><td>1     </td><td>3     </td><td>1     </td><td>39    </td><td> 0    </td><td> 0    </td><td> 0    </td><td> 0    </td><td>...   </td><td>88004 </td><td>31237 </td><td>15980 </td><td> 8500 </td><td>20000 </td><td> 5003 </td><td>3047  </td><td> 5000 </td><td>1000  </td><td>0     </td></tr>\n",
       "\t<tr><th scope=row>29997</th><td>29997 </td><td>150000</td><td>1     </td><td>3     </td><td>2     </td><td>43    </td><td>-1    </td><td>-1    </td><td>-1    </td><td>-1    </td><td>...   </td><td> 8979 </td><td> 5190 </td><td>    0 </td><td> 1837 </td><td> 3526 </td><td> 8998 </td><td> 129  </td><td>    0 </td><td>   0  </td><td>0     </td></tr>\n",
       "\t<tr><th scope=row>29998</th><td>29998 </td><td> 30000</td><td>1     </td><td>2     </td><td>2     </td><td>37    </td><td> 4    </td><td> 3    </td><td> 2    </td><td>-1    </td><td>...   </td><td>20878 </td><td>20582 </td><td>19357 </td><td>    0 </td><td>    0 </td><td>22000 </td><td>4200  </td><td> 2000 </td><td>3100  </td><td>1     </td></tr>\n",
       "\t<tr><th scope=row>29999</th><td>29999 </td><td> 80000</td><td>1     </td><td>3     </td><td>1     </td><td>41    </td><td> 1    </td><td>-1    </td><td> 0    </td><td> 0    </td><td>...   </td><td>52774 </td><td>11855 </td><td>48944 </td><td>85900 </td><td> 3409 </td><td> 1178 </td><td>1926  </td><td>52964 </td><td>1804  </td><td>1     </td></tr>\n",
       "\t<tr><th scope=row>30000</th><td>30000 </td><td> 50000</td><td>1     </td><td>2     </td><td>1     </td><td>46    </td><td> 0    </td><td> 0    </td><td> 0    </td><td> 0    </td><td>...   </td><td>36535 </td><td>32428 </td><td>15313 </td><td> 2078 </td><td> 1800 </td><td> 1430 </td><td>1000  </td><td> 1000 </td><td>1000  </td><td>1     </td></tr>\n",
       "</tbody>\n",
       "</table>\n"
      ],
      "text/latex": [
       "\\begin{tabular}{r|lllllllllllllllllllllllll}\n",
       "  & ID & LIMIT\\_BAL & SEX & EDUCATION & MARRIAGE & AGE & PAY\\_0 & PAY\\_2 & PAY\\_3 & PAY\\_4 & ... & BILL\\_AMT4 & BILL\\_AMT5 & BILL\\_AMT6 & PAY\\_AMT1 & PAY\\_AMT2 & PAY\\_AMT3 & PAY\\_AMT4 & PAY\\_AMT5 & PAY\\_AMT6 & default.payment.next.month\\\\\n",
       "\\hline\n",
       "\t29995 & 29995  &  80000 & 1      & 2      & 2      & 34     &  2     &  2     &  2     &  2     & ...    & 77519  & 82607  & 81158  &  7000  &  3500  &     0  & 7000   &     0  & 4000   & 1     \\\\\n",
       "\t29996 & 29996  & 220000 & 1      & 3      & 1      & 39     &  0     &  0     &  0     &  0     & ...    & 88004  & 31237  & 15980  &  8500  & 20000  &  5003  & 3047   &  5000  & 1000   & 0     \\\\\n",
       "\t29997 & 29997  & 150000 & 1      & 3      & 2      & 43     & -1     & -1     & -1     & -1     & ...    &  8979  &  5190  &     0  &  1837  &  3526  &  8998  &  129   &     0  &    0   & 0     \\\\\n",
       "\t29998 & 29998  &  30000 & 1      & 2      & 2      & 37     &  4     &  3     &  2     & -1     & ...    & 20878  & 20582  & 19357  &     0  &     0  & 22000  & 4200   &  2000  & 3100   & 1     \\\\\n",
       "\t29999 & 29999  &  80000 & 1      & 3      & 1      & 41     &  1     & -1     &  0     &  0     & ...    & 52774  & 11855  & 48944  & 85900  &  3409  &  1178  & 1926   & 52964  & 1804   & 1     \\\\\n",
       "\t30000 & 30000  &  50000 & 1      & 2      & 1      & 46     &  0     &  0     &  0     &  0     & ...    & 36535  & 32428  & 15313  &  2078  &  1800  &  1430  & 1000   &  1000  & 1000   & 1     \\\\\n",
       "\\end{tabular}\n"
      ],
      "text/markdown": [
       "\n",
       "| <!--/--> | ID | LIMIT_BAL | SEX | EDUCATION | MARRIAGE | AGE | PAY_0 | PAY_2 | PAY_3 | PAY_4 | ... | BILL_AMT4 | BILL_AMT5 | BILL_AMT6 | PAY_AMT1 | PAY_AMT2 | PAY_AMT3 | PAY_AMT4 | PAY_AMT5 | PAY_AMT6 | default.payment.next.month |\n",
       "|---|---|---|---|---|---|---|---|---|---|---|---|---|---|---|---|---|---|---|---|---|---|\n",
       "| 29995 | 29995  |  80000 | 1      | 2      | 2      | 34     |  2     |  2     |  2     |  2     | ...    | 77519  | 82607  | 81158  |  7000  |  3500  |     0  | 7000   |     0  | 4000   | 1      |\n",
       "| 29996 | 29996  | 220000 | 1      | 3      | 1      | 39     |  0     |  0     |  0     |  0     | ...    | 88004  | 31237  | 15980  |  8500  | 20000  |  5003  | 3047   |  5000  | 1000   | 0      |\n",
       "| 29997 | 29997  | 150000 | 1      | 3      | 2      | 43     | -1     | -1     | -1     | -1     | ...    |  8979  |  5190  |     0  |  1837  |  3526  |  8998  |  129   |     0  |    0   | 0      |\n",
       "| 29998 | 29998  |  30000 | 1      | 2      | 2      | 37     |  4     |  3     |  2     | -1     | ...    | 20878  | 20582  | 19357  |     0  |     0  | 22000  | 4200   |  2000  | 3100   | 1      |\n",
       "| 29999 | 29999  |  80000 | 1      | 3      | 1      | 41     |  1     | -1     |  0     |  0     | ...    | 52774  | 11855  | 48944  | 85900  |  3409  |  1178  | 1926   | 52964  | 1804   | 1      |\n",
       "| 30000 | 30000  |  50000 | 1      | 2      | 1      | 46     |  0     |  0     |  0     |  0     | ...    | 36535  | 32428  | 15313  |  2078  |  1800  |  1430  | 1000   |  1000  | 1000   | 1      |\n",
       "\n"
      ],
      "text/plain": [
       "      ID    LIMIT_BAL SEX EDUCATION MARRIAGE AGE PAY_0 PAY_2 PAY_3 PAY_4 ...\n",
       "29995 29995  80000    1   2         2        34   2     2     2     2    ...\n",
       "29996 29996 220000    1   3         1        39   0     0     0     0    ...\n",
       "29997 29997 150000    1   3         2        43  -1    -1    -1    -1    ...\n",
       "29998 29998  30000    1   2         2        37   4     3     2    -1    ...\n",
       "29999 29999  80000    1   3         1        41   1    -1     0     0    ...\n",
       "30000 30000  50000    1   2         1        46   0     0     0     0    ...\n",
       "      BILL_AMT4 BILL_AMT5 BILL_AMT6 PAY_AMT1 PAY_AMT2 PAY_AMT3 PAY_AMT4\n",
       "29995 77519     82607     81158      7000     3500        0    7000    \n",
       "29996 88004     31237     15980      8500    20000     5003    3047    \n",
       "29997  8979      5190         0      1837     3526     8998     129    \n",
       "29998 20878     20582     19357         0        0    22000    4200    \n",
       "29999 52774     11855     48944     85900     3409     1178    1926    \n",
       "30000 36535     32428     15313      2078     1800     1430    1000    \n",
       "      PAY_AMT5 PAY_AMT6 default.payment.next.month\n",
       "29995     0    4000     1                         \n",
       "29996  5000    1000     0                         \n",
       "29997     0       0     0                         \n",
       "29998  2000    3100     1                         \n",
       "29999 52964    1804     1                         \n",
       "30000  1000    1000     1                         "
      ]
     },
     "metadata": {},
     "output_type": "display_data"
    }
   ],
   "source": [
    "# Visualizar as seis úlitmas linhas do dataset\n",
    "tail(df_clientes)"
   ]
  },
  {
   "cell_type": "code",
   "execution_count": 6,
   "id": "packed-serbia",
   "metadata": {},
   "outputs": [
    {
     "data": {
      "text/html": [
       "<dl class=dl-horizontal>\n",
       "\t<dt>ID</dt>\n",
       "\t\t<dd>0</dd>\n",
       "\t<dt>LIMIT_BAL</dt>\n",
       "\t\t<dd>0</dd>\n",
       "\t<dt>SEX</dt>\n",
       "\t\t<dd>0</dd>\n",
       "\t<dt>EDUCATION</dt>\n",
       "\t\t<dd>0</dd>\n",
       "\t<dt>MARRIAGE</dt>\n",
       "\t\t<dd>0</dd>\n",
       "\t<dt>AGE</dt>\n",
       "\t\t<dd>0</dd>\n",
       "\t<dt>PAY_0</dt>\n",
       "\t\t<dd>0</dd>\n",
       "\t<dt>PAY_2</dt>\n",
       "\t\t<dd>0</dd>\n",
       "\t<dt>PAY_3</dt>\n",
       "\t\t<dd>0</dd>\n",
       "\t<dt>PAY_4</dt>\n",
       "\t\t<dd>0</dd>\n",
       "\t<dt>PAY_5</dt>\n",
       "\t\t<dd>0</dd>\n",
       "\t<dt>PAY_6</dt>\n",
       "\t\t<dd>0</dd>\n",
       "\t<dt>BILL_AMT1</dt>\n",
       "\t\t<dd>0</dd>\n",
       "\t<dt>BILL_AMT2</dt>\n",
       "\t\t<dd>0</dd>\n",
       "\t<dt>BILL_AMT3</dt>\n",
       "\t\t<dd>0</dd>\n",
       "\t<dt>BILL_AMT4</dt>\n",
       "\t\t<dd>0</dd>\n",
       "\t<dt>BILL_AMT5</dt>\n",
       "\t\t<dd>0</dd>\n",
       "\t<dt>BILL_AMT6</dt>\n",
       "\t\t<dd>0</dd>\n",
       "\t<dt>PAY_AMT1</dt>\n",
       "\t\t<dd>0</dd>\n",
       "\t<dt>PAY_AMT2</dt>\n",
       "\t\t<dd>0</dd>\n",
       "\t<dt>PAY_AMT3</dt>\n",
       "\t\t<dd>0</dd>\n",
       "\t<dt>PAY_AMT4</dt>\n",
       "\t\t<dd>0</dd>\n",
       "\t<dt>PAY_AMT5</dt>\n",
       "\t\t<dd>0</dd>\n",
       "\t<dt>PAY_AMT6</dt>\n",
       "\t\t<dd>0</dd>\n",
       "\t<dt>default.payment.next.month</dt>\n",
       "\t\t<dd>0</dd>\n",
       "</dl>\n"
      ],
      "text/latex": [
       "\\begin{description*}\n",
       "\\item[ID] 0\n",
       "\\item[LIMIT\\textbackslash{}\\_BAL] 0\n",
       "\\item[SEX] 0\n",
       "\\item[EDUCATION] 0\n",
       "\\item[MARRIAGE] 0\n",
       "\\item[AGE] 0\n",
       "\\item[PAY\\textbackslash{}\\_0] 0\n",
       "\\item[PAY\\textbackslash{}\\_2] 0\n",
       "\\item[PAY\\textbackslash{}\\_3] 0\n",
       "\\item[PAY\\textbackslash{}\\_4] 0\n",
       "\\item[PAY\\textbackslash{}\\_5] 0\n",
       "\\item[PAY\\textbackslash{}\\_6] 0\n",
       "\\item[BILL\\textbackslash{}\\_AMT1] 0\n",
       "\\item[BILL\\textbackslash{}\\_AMT2] 0\n",
       "\\item[BILL\\textbackslash{}\\_AMT3] 0\n",
       "\\item[BILL\\textbackslash{}\\_AMT4] 0\n",
       "\\item[BILL\\textbackslash{}\\_AMT5] 0\n",
       "\\item[BILL\\textbackslash{}\\_AMT6] 0\n",
       "\\item[PAY\\textbackslash{}\\_AMT1] 0\n",
       "\\item[PAY\\textbackslash{}\\_AMT2] 0\n",
       "\\item[PAY\\textbackslash{}\\_AMT3] 0\n",
       "\\item[PAY\\textbackslash{}\\_AMT4] 0\n",
       "\\item[PAY\\textbackslash{}\\_AMT5] 0\n",
       "\\item[PAY\\textbackslash{}\\_AMT6] 0\n",
       "\\item[default.payment.next.month] 0\n",
       "\\end{description*}\n"
      ],
      "text/markdown": [
       "ID\n",
       ":   0LIMIT_BAL\n",
       ":   0SEX\n",
       ":   0EDUCATION\n",
       ":   0MARRIAGE\n",
       ":   0AGE\n",
       ":   0PAY_0\n",
       ":   0PAY_2\n",
       ":   0PAY_3\n",
       ":   0PAY_4\n",
       ":   0PAY_5\n",
       ":   0PAY_6\n",
       ":   0BILL_AMT1\n",
       ":   0BILL_AMT2\n",
       ":   0BILL_AMT3\n",
       ":   0BILL_AMT4\n",
       ":   0BILL_AMT5\n",
       ":   0BILL_AMT6\n",
       ":   0PAY_AMT1\n",
       ":   0PAY_AMT2\n",
       ":   0PAY_AMT3\n",
       ":   0PAY_AMT4\n",
       ":   0PAY_AMT5\n",
       ":   0PAY_AMT6\n",
       ":   0default.payment.next.month\n",
       ":   0\n",
       "\n"
      ],
      "text/plain": [
       "                        ID                  LIMIT_BAL \n",
       "                         0                          0 \n",
       "                       SEX                  EDUCATION \n",
       "                         0                          0 \n",
       "                  MARRIAGE                        AGE \n",
       "                         0                          0 \n",
       "                     PAY_0                      PAY_2 \n",
       "                         0                          0 \n",
       "                     PAY_3                      PAY_4 \n",
       "                         0                          0 \n",
       "                     PAY_5                      PAY_6 \n",
       "                         0                          0 \n",
       "                 BILL_AMT1                  BILL_AMT2 \n",
       "                         0                          0 \n",
       "                 BILL_AMT3                  BILL_AMT4 \n",
       "                         0                          0 \n",
       "                 BILL_AMT5                  BILL_AMT6 \n",
       "                         0                          0 \n",
       "                  PAY_AMT1                   PAY_AMT2 \n",
       "                         0                          0 \n",
       "                  PAY_AMT3                   PAY_AMT4 \n",
       "                         0                          0 \n",
       "                  PAY_AMT5                   PAY_AMT6 \n",
       "                         0                          0 \n",
       "default.payment.next.month \n",
       "                         0 "
      ]
     },
     "metadata": {},
     "output_type": "display_data"
    }
   ],
   "source": [
    "# Checar NAs\n",
    "sapply(df_clientes, function(x) sum(is.na(x)))"
   ]
  },
  {
   "cell_type": "code",
   "execution_count": 7,
   "id": "urban-ireland",
   "metadata": {},
   "outputs": [
    {
     "data": {
      "image/png": "[encoded data removed]",
      "text/plain": [
       "Plot with title \"Missingness Map\""
      ]
     },
     "metadata": {},
     "output_type": "display_data"
    }
   ],
   "source": [
    "# Plotar NAs\n",
    "missmap(df_clientes)"
   ]
  },
  {
   "cell_type": "markdown",
   "id": "quarterly-charlotte",
   "metadata": {},
   "source": [
    "## 2. LIMPEZA, TRANSFORMAÇÃO E ANÁLISE EXPLORATÓRIA DOS DADOS"
   ]
  },
  {
   "cell_type": "markdown",
   "id": "twelve-channel",
   "metadata": {},
   "source": [
    "### 2.1 Pré Conversão"
   ]
  },
  {
   "cell_type": "code",
   "execution_count": 8,
   "id": "posted-shoot",
   "metadata": {},
   "outputs": [],
   "source": [
    "# Remover primeira coluna - ID\n",
    "df_clientes<- df_clientes[,-1]"
   ]
  },
  {
   "cell_type": "code",
   "execution_count": 9,
   "id": "finished-seeker",
   "metadata": {},
   "outputs": [],
   "source": [
    "# Renomear a a variável dependente - DEFAULTING\n",
    "colnames(df_clientes) [24]<- \"DEFAULTING\""
   ]
  },
  {
   "cell_type": "code",
   "execution_count": 10,
   "id": "thrown-capacity",
   "metadata": {},
   "outputs": [],
   "source": [
    "# Transformar variaveis \n",
    "df_clientes$SEX<- factor(df_clientes$SEX,\n",
    "                         levels = c(1,2),\n",
    "                         labels = c(\"Male\",\"Female\"))\n",
    "\n",
    "df_clientes$MARRIAGE<- factor(df_clientes$MARRIAGE,\n",
    "                              levels = c(0,1,2,3),\n",
    "                              labels=c(\"Unknown\",\"Married\",\"Single\",\"Others\"))\n",
    "\n",
    "df_clientes$EDUCATION<- factor(df_clientes$EDUCATION,\n",
    "                               levels = c(1,2,3,4),\n",
    "                               labels = c(\"Graduate School\", \"University\",\n",
    "                                          \"High School\",\"Others\"))\n",
    "df_clientes$PAY_0<- factor(df_clientes$PAY_0)\n",
    "df_clientes$PAY_2<- factor(df_clientes$PAY_2)\n",
    "df_clientes$PAY_3<- factor(df_clientes$PAY_3)\n",
    "df_clientes$PAY_4<- factor(df_clientes$PAY_4)\n",
    "df_clientes$PAY_5<- factor(df_clientes$PAY_5)\n",
    "df_clientes$PAY_6<- factor(df_clientes$PAY_6)\n",
    "df_clientes$DEFAULTING<- factor(df_clientes$DEFAULTING,levels=c(0,1),labels=c(\"Yes\",\"No\"))"
   ]
  },
  {
   "cell_type": "markdown",
   "id": "broken-password",
   "metadata": {},
   "source": [
    "### 2.2 Pós Conversão"
   ]
  },
  {
   "cell_type": "code",
   "execution_count": 11,
   "id": "fifth-cruise",
   "metadata": {},
   "outputs": [
    {
     "name": "stdout",
     "output_type": "stream",
     "text": [
      "Rows: 30,000\n",
      "Columns: 24\n",
      "$ LIMIT_BAL  <int> 20000, 120000, 90000, 50000, 50000, 50000, 500000, 100000, ~\n",
      "$ SEX        <fct> Female, Female, Female, Female, Male, Male, Male, Female, F~\n",
      "$ EDUCATION  <fct> University, University, University, University, University,~\n",
      "$ MARRIAGE   <fct> Married, Single, Single, Married, Married, Single, Single, ~\n",
      "$ AGE        <int> 24, 26, 34, 37, 57, 37, 29, 23, 28, 35, 34, 51, 41, 30, 29,~\n",
      "$ PAY_0      <fct> 2, -1, 0, 0, -1, 0, 0, 0, 0, -2, 0, -1, -1, 1, 0, 1, 0, 0, ~\n",
      "$ PAY_2      <fct> 2, 2, 0, 0, 0, 0, 0, -1, 0, -2, 0, -1, 0, 2, 0, 2, 0, 0, -2~\n",
      "$ PAY_3      <fct> -1, 0, 0, 0, -1, 0, 0, -1, 2, -2, 2, -1, -1, 2, 0, 0, 2, 0,~\n",
      "$ PAY_4      <fct> -1, 0, 0, 0, 0, 0, 0, 0, 0, -2, 0, -1, -1, 0, 0, 0, 2, -1, ~\n",
      "$ PAY_5      <fct> -2, 0, 0, 0, 0, 0, 0, 0, 0, -1, 0, -1, -1, 0, 0, 0, 2, -1, ~\n",
      "$ PAY_6      <fct> -2, 2, 0, 0, 0, 0, 0, -1, 0, -1, -1, 2, -1, 2, 0, 0, 2, -1,~\n",
      "$ BILL_AMT1  <int> 3913, 2682, 29239, 46990, 8617, 64400, 367965, 11876, 11285~\n",
      "$ BILL_AMT2  <int> 3102, 1725, 14027, 48233, 5670, 57069, 412023, 380, 14096, ~\n",
      "$ BILL_AMT3  <int> 689, 2682, 13559, 49291, 35835, 57608, 445007, 601, 12108, ~\n",
      "$ BILL_AMT4  <int> 0, 3272, 14331, 28314, 20940, 19394, 542653, 221, 12211, 0,~\n",
      "$ BILL_AMT5  <int> 0, 3455, 14948, 28959, 19146, 19619, 483003, -159, 11793, 1~\n",
      "$ BILL_AMT6  <int> 0, 3261, 15549, 29547, 19131, 20024, 473944, 567, 3719, 139~\n",
      "$ PAY_AMT1   <int> 0, 0, 1518, 2000, 2000, 2500, 55000, 380, 3329, 0, 2306, 21~\n",
      "$ PAY_AMT2   <int> 689, 1000, 1500, 2019, 36681, 1815, 40000, 601, 0, 0, 12, 9~\n",
      "$ PAY_AMT3   <int> 0, 1000, 1000, 1200, 10000, 657, 38000, 0, 432, 0, 50, 8583~\n",
      "$ PAY_AMT4   <int> 0, 1000, 1000, 1100, 9000, 1000, 20239, 581, 1000, 13007, 3~\n",
      "$ PAY_AMT5   <int> 0, 0, 1000, 1069, 689, 1000, 13750, 1687, 1000, 1122, 3738,~\n",
      "$ PAY_AMT6   <int> 0, 2000, 5000, 1000, 679, 800, 13770, 1542, 1000, 0, 66, 36~\n",
      "$ DEFAULTING <fct> No, No, Yes, Yes, Yes, Yes, Yes, Yes, Yes, Yes, Yes, Yes, Y~\n"
     ]
    }
   ],
   "source": [
    "# Visualizando dados pós conversão\n",
    "glimpse(df_clientes)"
   ]
  },
  {
   "cell_type": "code",
   "execution_count": 12,
   "id": "primary-starter",
   "metadata": {},
   "outputs": [
    {
     "data": {
      "text/html": [
       "<dl class=dl-horizontal>\n",
       "\t<dt>LIMIT_BAL</dt>\n",
       "\t\t<dd>0</dd>\n",
       "\t<dt>SEX</dt>\n",
       "\t\t<dd>0</dd>\n",
       "\t<dt>EDUCATION</dt>\n",
       "\t\t<dd>345</dd>\n",
       "\t<dt>MARRIAGE</dt>\n",
       "\t\t<dd>0</dd>\n",
       "\t<dt>AGE</dt>\n",
       "\t\t<dd>0</dd>\n",
       "\t<dt>PAY_0</dt>\n",
       "\t\t<dd>0</dd>\n",
       "\t<dt>PAY_2</dt>\n",
       "\t\t<dd>0</dd>\n",
       "\t<dt>PAY_3</dt>\n",
       "\t\t<dd>0</dd>\n",
       "\t<dt>PAY_4</dt>\n",
       "\t\t<dd>0</dd>\n",
       "\t<dt>PAY_5</dt>\n",
       "\t\t<dd>0</dd>\n",
       "\t<dt>PAY_6</dt>\n",
       "\t\t<dd>0</dd>\n",
       "\t<dt>BILL_AMT1</dt>\n",
       "\t\t<dd>0</dd>\n",
       "\t<dt>BILL_AMT2</dt>\n",
       "\t\t<dd>0</dd>\n",
       "\t<dt>BILL_AMT3</dt>\n",
       "\t\t<dd>0</dd>\n",
       "\t<dt>BILL_AMT4</dt>\n",
       "\t\t<dd>0</dd>\n",
       "\t<dt>BILL_AMT5</dt>\n",
       "\t\t<dd>0</dd>\n",
       "\t<dt>BILL_AMT6</dt>\n",
       "\t\t<dd>0</dd>\n",
       "\t<dt>PAY_AMT1</dt>\n",
       "\t\t<dd>0</dd>\n",
       "\t<dt>PAY_AMT2</dt>\n",
       "\t\t<dd>0</dd>\n",
       "\t<dt>PAY_AMT3</dt>\n",
       "\t\t<dd>0</dd>\n",
       "\t<dt>PAY_AMT4</dt>\n",
       "\t\t<dd>0</dd>\n",
       "\t<dt>PAY_AMT5</dt>\n",
       "\t\t<dd>0</dd>\n",
       "\t<dt>PAY_AMT6</dt>\n",
       "\t\t<dd>0</dd>\n",
       "\t<dt>DEFAULTING</dt>\n",
       "\t\t<dd>0</dd>\n",
       "</dl>\n"
      ],
      "text/latex": [
       "\\begin{description*}\n",
       "\\item[LIMIT\\textbackslash{}\\_BAL] 0\n",
       "\\item[SEX] 0\n",
       "\\item[EDUCATION] 345\n",
       "\\item[MARRIAGE] 0\n",
       "\\item[AGE] 0\n",
       "\\item[PAY\\textbackslash{}\\_0] 0\n",
       "\\item[PAY\\textbackslash{}\\_2] 0\n",
       "\\item[PAY\\textbackslash{}\\_3] 0\n",
       "\\item[PAY\\textbackslash{}\\_4] 0\n",
       "\\item[PAY\\textbackslash{}\\_5] 0\n",
       "\\item[PAY\\textbackslash{}\\_6] 0\n",
       "\\item[BILL\\textbackslash{}\\_AMT1] 0\n",
       "\\item[BILL\\textbackslash{}\\_AMT2] 0\n",
       "\\item[BILL\\textbackslash{}\\_AMT3] 0\n",
       "\\item[BILL\\textbackslash{}\\_AMT4] 0\n",
       "\\item[BILL\\textbackslash{}\\_AMT5] 0\n",
       "\\item[BILL\\textbackslash{}\\_AMT6] 0\n",
       "\\item[PAY\\textbackslash{}\\_AMT1] 0\n",
       "\\item[PAY\\textbackslash{}\\_AMT2] 0\n",
       "\\item[PAY\\textbackslash{}\\_AMT3] 0\n",
       "\\item[PAY\\textbackslash{}\\_AMT4] 0\n",
       "\\item[PAY\\textbackslash{}\\_AMT5] 0\n",
       "\\item[PAY\\textbackslash{}\\_AMT6] 0\n",
       "\\item[DEFAULTING] 0\n",
       "\\end{description*}\n"
      ],
      "text/markdown": [
       "LIMIT_BAL\n",
       ":   0SEX\n",
       ":   0EDUCATION\n",
       ":   345MARRIAGE\n",
       ":   0AGE\n",
       ":   0PAY_0\n",
       ":   0PAY_2\n",
       ":   0PAY_3\n",
       ":   0PAY_4\n",
       ":   0PAY_5\n",
       ":   0PAY_6\n",
       ":   0BILL_AMT1\n",
       ":   0BILL_AMT2\n",
       ":   0BILL_AMT3\n",
       ":   0BILL_AMT4\n",
       ":   0BILL_AMT5\n",
       ":   0BILL_AMT6\n",
       ":   0PAY_AMT1\n",
       ":   0PAY_AMT2\n",
       ":   0PAY_AMT3\n",
       ":   0PAY_AMT4\n",
       ":   0PAY_AMT5\n",
       ":   0PAY_AMT6\n",
       ":   0DEFAULTING\n",
       ":   0\n",
       "\n"
      ],
      "text/plain": [
       " LIMIT_BAL        SEX  EDUCATION   MARRIAGE        AGE      PAY_0      PAY_2 \n",
       "         0          0        345          0          0          0          0 \n",
       "     PAY_3      PAY_4      PAY_5      PAY_6  BILL_AMT1  BILL_AMT2  BILL_AMT3 \n",
       "         0          0          0          0          0          0          0 \n",
       " BILL_AMT4  BILL_AMT5  BILL_AMT6   PAY_AMT1   PAY_AMT2   PAY_AMT3   PAY_AMT4 \n",
       "         0          0          0          0          0          0          0 \n",
       "  PAY_AMT5   PAY_AMT6 DEFAULTING \n",
       "         0          0          0 "
      ]
     },
     "metadata": {},
     "output_type": "display_data"
    }
   ],
   "source": [
    "# Checar NAs\n",
    "sapply(df_clientes, function(x) sum(is.na(x)))"
   ]
  },
  {
   "cell_type": "code",
   "execution_count": 13,
   "id": "fewer-procurement",
   "metadata": {},
   "outputs": [
    {
     "data": {
      "image/png": "[encoded data removed]",
      "text/plain": [
       "Plot with title \"Missingness Map\""
      ]
     },
     "metadata": {},
     "output_type": "display_data"
    }
   ],
   "source": [
    "# Plot NAs\n",
    "missmap(df_clientes)"
   ]
  },
  {
   "cell_type": "code",
   "execution_count": 14,
   "id": "fossil-store",
   "metadata": {},
   "outputs": [],
   "source": [
    "# Omitir NAs\n",
    "df_clientes<-na.omit(df_clientes)"
   ]
  },
  {
   "cell_type": "markdown",
   "id": "reasonable-composition",
   "metadata": {},
   "source": [
    "### 2.3 Plotando as variáveis"
   ]
  },
  {
   "cell_type": "code",
   "execution_count": 15,
   "id": "democratic-leisure",
   "metadata": {},
   "outputs": [
    {
     "data": {
      "image/png": "[encoded data removed]",
      "text/plain": [
       "plot without title"
      ]
     },
     "metadata": {},
     "output_type": "display_data"
    }
   ],
   "source": [
    "# Plotar variável dependente - Defaulting\n",
    "df_clientes %>%\n",
    "  ggplot(aes(DEFAULTING,fill=DEFAULTING)) +\n",
    "  geom_bar(show.legend = F, alpha=.5) +\n",
    "  labs(title = \"Defaulting\",x=NULL,y=NULL)"
   ]
  },
  {
   "cell_type": "code",
   "execution_count": 16,
   "id": "reverse-fields",
   "metadata": {},
   "outputs": [],
   "source": [
    "# Plotar variável Amount of the given credit\n",
    "plot1<-df_clientes %>%\n",
    "ggplot(aes(LIMIT_BAL)) +\n",
    "geom_histogram(fill = \"green\", color = \"red\", alpha = .5, bins = 40, boundary = 5) +\n",
    "labs(title=\"Amount of the Given Credit\",x=NULL,y=NULL)"
   ]
  },
  {
   "cell_type": "code",
   "execution_count": 54,
   "id": "civil-distributor",
   "metadata": {},
   "outputs": [],
   "source": [
    "# Plotar variável Age\n",
    "plot2<-df_clientes %>%\n",
    "  ggplot(aes(AGE)) +\n",
    "  geom_bar(colour=\"red\",fill=\"lightblue\",show.legend = F, alpha=.5) +\n",
    "  labs(title = \"Age\",x=NULL,y=NULL)"
   ]
  },
  {
   "cell_type": "code",
   "execution_count": 55,
   "id": "stainless-admission",
   "metadata": {},
   "outputs": [
    {
     "data": {
      "image/png": "[encoded data removed]",
      "text/plain": [
       "plot without title"
      ]
     },
     "metadata": {},
     "output_type": "display_data"
    }
   ],
   "source": [
    "grid.arrange(plot1,plot2)"
   ]
  },
  {
   "cell_type": "code",
   "execution_count": 19,
   "id": "noticed-truth",
   "metadata": {},
   "outputs": [],
   "source": [
    "# Plot Marriage\n",
    "plot3<-df_clientes %>%\n",
    "ggplot(aes(MARRIAGE,fill=MARRIAGE)) +\n",
    "geom_bar(show.legend=F,alpha=.5) +\n",
    "labs(title=\"Marriage Status\",x=NULL,y=NULL)"
   ]
  },
  {
   "cell_type": "code",
   "execution_count": 20,
   "id": "tutorial-banks",
   "metadata": {},
   "outputs": [],
   "source": [
    "# Plot Education\n",
    "plot4<-df_clientes %>%\n",
    "ggplot(aes(EDUCATION,fill=EDUCATION)) +\n",
    "geom_bar(show.legend=F,alpha=.5) +\n",
    "labs(title=\"Education Level\",x=NULL,y=NULL)"
   ]
  },
  {
   "cell_type": "code",
   "execution_count": 21,
   "id": "jewish-finger",
   "metadata": {},
   "outputs": [],
   "source": [
    "# Plot Sex\n",
    "plot5<-df_clientes %>%\n",
    "ggplot(aes(SEX,fill=SEX)) +\n",
    "geom_bar(show.legend=F,alpha=.5) +\n",
    "labs(title=\"Sex\",x=NULL,y=NULL)"
   ]
  },
  {
   "cell_type": "code",
   "execution_count": 22,
   "id": "signed-minister",
   "metadata": {},
   "outputs": [
    {
     "data": {
      "image/png": "[encoded data removed]",
      "text/plain": [
       "plot without title"
      ]
     },
     "metadata": {},
     "output_type": "display_data"
    }
   ],
   "source": [
    "grid.arrange(plot3,plot4,plot5)"
   ]
  },
  {
   "cell_type": "code",
   "execution_count": 23,
   "id": "serial-render",
   "metadata": {},
   "outputs": [],
   "source": [
    "# Plotar variável Pay0\n",
    "plot6<-df_clientes %>%\n",
    "  ggplot(aes(PAY_0,fill=PAY_0)) +\n",
    "  geom_bar(show.legend = F, alpha=.5) +\n",
    "  labs(title = \"Pay0\",x=NULL,y=NULL)"
   ]
  },
  {
   "cell_type": "code",
   "execution_count": 24,
   "id": "fatal-brooklyn",
   "metadata": {},
   "outputs": [],
   "source": [
    "# Plotar variável Pay2\n",
    "plot7<-df_clientes %>%\n",
    "  ggplot(aes(PAY_2,fill=PAY_2)) +\n",
    "  geom_bar(show.legend = F, alpha=.5) +\n",
    "  labs(title = \"Pay2\",x=NULL,y=NULL)"
   ]
  },
  {
   "cell_type": "code",
   "execution_count": 25,
   "id": "sensitive-dating",
   "metadata": {},
   "outputs": [],
   "source": [
    "# Plotar variável Pay3\n",
    "plot8<-df_clientes %>%\n",
    "  ggplot(aes(PAY_3,fill=PAY_3)) +\n",
    "  geom_bar(show.legend = F, alpha=.5) +\n",
    "  labs(title = \"Pay3\",x=NULL,y=NULL)"
   ]
  },
  {
   "cell_type": "code",
   "execution_count": 26,
   "id": "informational-garlic",
   "metadata": {},
   "outputs": [
    {
     "data": {
      "image/png": "[encoded data removed]",
      "text/plain": [
       "plot without title"
      ]
     },
     "metadata": {},
     "output_type": "display_data"
    }
   ],
   "source": [
    "grid.arrange(plot6,plot7,plot8)"
   ]
  },
  {
   "cell_type": "code",
   "execution_count": 27,
   "id": "working-european",
   "metadata": {},
   "outputs": [],
   "source": [
    "# Plotar variável Pay4\n",
    "plot9<-df_clientes %>%\n",
    "  ggplot(aes(PAY_4,fill=PAY_4)) +\n",
    "  geom_bar(show.legend = F, alpha=.5) +\n",
    "  labs(title = \"Pay4\",x=NULL,y=NULL)"
   ]
  },
  {
   "cell_type": "code",
   "execution_count": 28,
   "id": "million-manchester",
   "metadata": {},
   "outputs": [],
   "source": [
    "# Plotar variável Pay5\n",
    "plot10<-df_clientes %>%\n",
    "  ggplot(aes(PAY_5,fill=PAY_5)) +\n",
    "  geom_bar(show.legend = F, alpha=.5) +\n",
    "  labs(title = \"Pay5\",x=NULL,y=NULL)"
   ]
  },
  {
   "cell_type": "code",
   "execution_count": 29,
   "id": "advance-nothing",
   "metadata": {},
   "outputs": [],
   "source": [
    "# Plotar variável Pay6\n",
    "plot11<-df_clientes %>%\n",
    "  ggplot(aes(PAY_6,fill=PAY_6)) +\n",
    "  geom_bar(show.legend = F, alpha=.5) +\n",
    "  labs(title = \"Pay6\",x=NULL,y=NULL)"
   ]
  },
  {
   "cell_type": "code",
   "execution_count": 30,
   "id": "supposed-frederick",
   "metadata": {},
   "outputs": [
    {
     "data": {
      "image/png": "[encoded data removed]",
      "text/plain": [
       "plot without title"
      ]
     },
     "metadata": {},
     "output_type": "display_data"
    }
   ],
   "source": [
    "grid.arrange(plot9,plot10,plot11)"
   ]
  },
  {
   "cell_type": "code",
   "execution_count": 31,
   "id": "visible-programming",
   "metadata": {},
   "outputs": [],
   "source": [
    "# Plotar variável Amount of Bill1\n",
    "plot12<-df_clientes %>%\n",
    "ggplot(aes(BILL_AMT1)) +\n",
    "geom_histogram(fill = \"green\", color = \"red\", alpha = .5, bins = 40, boundary = 5) +\n",
    "labs(title=\"Amount of Bill1\",x=NULL,y=NULL)"
   ]
  },
  {
   "cell_type": "code",
   "execution_count": 32,
   "id": "packed-laser",
   "metadata": {},
   "outputs": [],
   "source": [
    "# Plotar variável Amount of Bill2\n",
    "plot13<-df_clientes %>%\n",
    "ggplot(aes(BILL_AMT2)) +\n",
    "geom_histogram(fill = \"green\", color = \"red\", alpha = .5, bins = 40, boundary = 5) +\n",
    "labs(title=\"Amount of Bill2\",x=NULL,y=NULL)"
   ]
  },
  {
   "cell_type": "code",
   "execution_count": 33,
   "id": "boring-envelope",
   "metadata": {},
   "outputs": [],
   "source": [
    "# Plotar variável Amount of Bill3\n",
    "plot14<-df_clientes %>%\n",
    "ggplot(aes(BILL_AMT3)) +\n",
    "geom_histogram(fill = \"green\", color = \"red\", alpha = .5, bins = 40, boundary = 5) +\n",
    "labs(title=\"Amount of Bill3\",x=NULL,y=NULL)"
   ]
  },
  {
   "cell_type": "code",
   "execution_count": 34,
   "id": "regulated-aggregate",
   "metadata": {},
   "outputs": [
    {
     "data": {
      "image/png": "[encoded data removed]",
      "text/plain": [
       "plot without title"
      ]
     },
     "metadata": {},
     "output_type": "display_data"
    }
   ],
   "source": [
    "grid.arrange(plot12,plot13,plot14)"
   ]
  },
  {
   "cell_type": "code",
   "execution_count": 35,
   "id": "facial-stylus",
   "metadata": {},
   "outputs": [],
   "source": [
    "# Plotar variável Amount of Bill4\n",
    "plot15<-df_clientes %>%\n",
    "ggplot(aes(BILL_AMT4)) +\n",
    "geom_histogram(fill = \"green\", color = \"red\", alpha = .5, bins = 40, boundary = 5) +\n",
    "labs(title=\"Amount of Bill4\",x=NULL,y=NULL)"
   ]
  },
  {
   "cell_type": "code",
   "execution_count": 36,
   "id": "rapid-stack",
   "metadata": {},
   "outputs": [],
   "source": [
    "# Plotar variável Amount of Bill5\n",
    "plot16<-df_clientes %>%\n",
    "ggplot(aes(BILL_AMT5)) +\n",
    "geom_histogram(fill = \"green\", color = \"red\", alpha = .5, bins = 40, boundary = 5) +\n",
    "labs(title=\"Amount of Bill5\",x=NULL,y=NULL)"
   ]
  },
  {
   "cell_type": "code",
   "execution_count": 37,
   "id": "adverse-plasma",
   "metadata": {},
   "outputs": [],
   "source": [
    "# Plotar variável Amount of Bill6\n",
    "plot17<-df_clientes %>%\n",
    "ggplot(aes(BILL_AMT6)) +\n",
    "geom_histogram(fill = \"green\", color = \"red\", alpha = .5, bins = 40, boundary = 5) +\n",
    "labs(title=\"Amount of Bill6\",x=NULL,y=NULL)"
   ]
  },
  {
   "cell_type": "code",
   "execution_count": 38,
   "id": "unavailable-denver",
   "metadata": {},
   "outputs": [
    {
     "data": {
      "image/png": "[encoded data removed]",
      "text/plain": [
       "plot without title"
      ]
     },
     "metadata": {},
     "output_type": "display_data"
    }
   ],
   "source": [
    "grid.arrange(plot15,plot16,plot17)"
   ]
  },
  {
   "cell_type": "code",
   "execution_count": 39,
   "id": "desperate-corner",
   "metadata": {},
   "outputs": [],
   "source": [
    "# Plotar variável  Amount of previous payment1\n",
    "plot18<-df_clientes %>%\n",
    "ggplot(aes(PAY_AMT1)) +\n",
    "geom_histogram(fill = \"green\", color = \"red\", alpha = .5, bins = 40, boundary = 5) +\n",
    "labs(title=\"Amount of previous payment1\",x=NULL,y=NULL)"
   ]
  },
  {
   "cell_type": "code",
   "execution_count": 40,
   "id": "designed-catholic",
   "metadata": {},
   "outputs": [],
   "source": [
    "# Plotar variável  Amount of previous payment2\n",
    "plot19<-df_clientes %>%\n",
    "ggplot(aes(PAY_AMT2)) +\n",
    "geom_histogram(fill = \"green\", color = \"red\", alpha = .5, bins = 40, boundary = 5) +\n",
    "labs(title=\"Amount of previous payment2\",x=NULL,y=NULL)"
   ]
  },
  {
   "cell_type": "code",
   "execution_count": 41,
   "id": "dedicated-river",
   "metadata": {},
   "outputs": [],
   "source": [
    "# Plotar variável  Amount of previous payment3\n",
    "plot20<-df_clientes %>%\n",
    "ggplot(aes(PAY_AMT3)) +\n",
    "geom_histogram(fill = \"green\", color = \"red\", alpha = .5, bins = 40, boundary = 5) +\n",
    "labs(title=\"Amount of previous payment3\",x=NULL,y=NULL)"
   ]
  },
  {
   "cell_type": "code",
   "execution_count": 42,
   "id": "fallen-ready",
   "metadata": {},
   "outputs": [
    {
     "data": {
      "image/png": "[encoded data removed]",
      "text/plain": [
       "plot without title"
      ]
     },
     "metadata": {},
     "output_type": "display_data"
    }
   ],
   "source": [
    "grid.arrange(plot18,plot19,plot20)"
   ]
  },
  {
   "cell_type": "code",
   "execution_count": 43,
   "id": "linear-highway",
   "metadata": {},
   "outputs": [],
   "source": [
    "# Plotar variável  Amount of previous payment4\n",
    "plot21<-df_clientes %>%\n",
    "ggplot(aes(PAY_AMT4)) +\n",
    "geom_histogram(fill = \"green\", color = \"red\", alpha = .5, bins = 40, boundary = 5) +\n",
    "labs(title=\"Amount of previous payment4\",x=NULL,y=NULL)"
   ]
  },
  {
   "cell_type": "code",
   "execution_count": 44,
   "id": "streaming-tunnel",
   "metadata": {},
   "outputs": [],
   "source": [
    "# Plotar variável  Amount of previous payment5\n",
    "plot22<-df_clientes %>%\n",
    "ggplot(aes(PAY_AMT5)) +\n",
    "geom_histogram(fill = \"green\", color = \"red\", alpha = .5, bins = 40, boundary = 5) +\n",
    "labs(title=\"Amount of previous payment5\",x=NULL,y=NULL)"
   ]
  },
  {
   "cell_type": "code",
   "execution_count": 45,
   "id": "overall-friendly",
   "metadata": {},
   "outputs": [],
   "source": [
    "# Plotar variável  Amount of previous payment6\n",
    "plot23<-df_clientes %>%\n",
    "ggplot(aes(PAY_AMT6)) +\n",
    "geom_histogram(fill = \"green\", color = \"red\", alpha = .5, bins = 40, boundary = 5) +\n",
    "labs(title=\"Amount of previous payment6\",x=NULL,y=NULL)"
   ]
  },
  {
   "cell_type": "code",
   "execution_count": 46,
   "id": "indian-aside",
   "metadata": {},
   "outputs": [
    {
     "data": {
      "image/png": "[encoded data removed]",
      "text/plain": [
       "plot without title"
      ]
     },
     "metadata": {},
     "output_type": "display_data"
    }
   ],
   "source": [
    "grid.arrange(plot21,plot22,plot23)"
   ]
  },
  {
   "cell_type": "markdown",
   "id": "opening-panel",
   "metadata": {},
   "source": [
    "### 2.4 Relação entre variáveis"
   ]
  },
  {
   "cell_type": "code",
   "execution_count": 56,
   "id": "naked-briefing",
   "metadata": {},
   "outputs": [],
   "source": [
    "# Relação variável dependente e quantia de crédito concedido\n",
    "plot24<-df_clientes %>%\n",
    "  ggplot(aes(DEFAULTING,LIMIT_BAL,fill=DEFAULTING)) +\n",
    "  geom_violin(alpha=.5,show.legend = F) +\n",
    "  labs(title=\"Defaulting x Amount of the Given Credit\",x=NULL,y=NULL)"
   ]
  },
  {
   "cell_type": "code",
   "execution_count": 57,
   "id": "lovely-portal",
   "metadata": {},
   "outputs": [],
   "source": [
    "# Relação variável dependente e idade\n",
    "plot25<-df_clientes %>%\n",
    "  ggplot(aes(DEFAULTING,AGE,fill=DEFAULTING)) +\n",
    "  geom_violin(alpha=.5,show.legend = F) +\n",
    "  labs(title=\"Defaulting x Age\",x=NULL,y=NULL)"
   ]
  },
  {
   "cell_type": "code",
   "execution_count": 58,
   "id": "occasional-debut",
   "metadata": {},
   "outputs": [
    {
     "data": {
      "image/png": "[encoded data removed]",
      "text/plain": [
       "plot without title"
      ]
     },
     "metadata": {},
     "output_type": "display_data"
    }
   ],
   "source": [
    "grid.arrange(plot24,plot25)"
   ]
  },
  {
   "cell_type": "code",
   "execution_count": 60,
   "id": "military-spring",
   "metadata": {},
   "outputs": [],
   "source": [
    "# # Relação variável dependente e estado civil\n",
    "plot26<-df_clientes %>%\n",
    "  ggplot(aes(DEFAULTING,LIMIT_BAL,fill=MARRIAGE)) +\n",
    "  geom_violin(alpha=.5) +\n",
    "  labs(title=\"Defaulting x Amount of the Given Credit per Marriage\",x=NULL,y=NULL)"
   ]
  },
  {
   "cell_type": "code",
   "execution_count": 61,
   "id": "raised-adapter",
   "metadata": {},
   "outputs": [],
   "source": [
    "# Relação variável dependente, quantia de crédito concedido e sexo\n",
    "plot27<-df_clientes %>%\n",
    "  ggplot(aes(DEFAULTING,LIMIT_BAL,fill=SEX)) +\n",
    "  geom_violin(alpha=.5,show.legend = F) +\n",
    "  labs(title=\"Defaulting x Amount of the Given Credit per Sex\",x=NULL,y=NULL)"
   ]
  },
  {
   "cell_type": "code",
   "execution_count": 62,
   "id": "informational-candy",
   "metadata": {},
   "outputs": [
    {
     "data": {
      "image/png": "[encoded data removed]",
      "text/plain": [
       "plot without title"
      ]
     },
     "metadata": {},
     "output_type": "display_data"
    }
   ],
   "source": [
    "grid.arrange(plot26,plot27)"
   ]
  },
  {
   "cell_type": "markdown",
   "id": "better-soundtrack",
   "metadata": {},
   "source": [
    "## 3. CONSTRUINDO MODELO"
   ]
  },
  {
   "cell_type": "markdown",
   "id": "welsh-edinburgh",
   "metadata": {},
   "source": [
    "* Dividiremos o dataset em dados de treino (*dados_treino*) e dados de teste (*dados_teste*)\n",
    "* Iremos realizar a normalização dos dados"
   ]
  },
  {
   "cell_type": "code",
   "execution_count": 63,
   "id": "elementary-oxide",
   "metadata": {},
   "outputs": [],
   "source": [
    "# Split do dataset em treino e teste\n",
    "indxTrain <- createDataPartition(y = df_clientes$DEFAULTING, p = 0.75, list = FALSE)\n",
    "dados_treino <- df_clientes[indxTrain,]\n",
    "dados_teste <- df_clientes[-indxTrain,]"
   ]
  },
  {
   "cell_type": "code",
   "execution_count": 64,
   "id": "pursuant-basketball",
   "metadata": {},
   "outputs": [
    {
     "data": {
      "text/plain": [
       "\n",
       "     Yes       No \n",
       "77.71034 22.28966 "
      ]
     },
     "metadata": {},
     "output_type": "display_data"
    },
    {
     "data": {
      "text/plain": [
       "\n",
       "     Yes       No \n",
       "77.70884 22.29116 "
      ]
     },
     "metadata": {},
     "output_type": "display_data"
    }
   ],
   "source": [
    "# Verificando a distribuição dos dados originais e das partições\n",
    "prop.table(table(df_clientes$DEFAULTING)) * 100\n",
    "prop.table(table(dados_treino$DEFAULTING)) * 100"
   ]
  },
  {
   "cell_type": "code",
   "execution_count": 65,
   "id": "floating-first",
   "metadata": {},
   "outputs": [],
   "source": [
    "# Normalizando colunas númerica nos dados de teste\n",
    "dados_teste_scaled<- dados_teste %>%\n",
    "mutate_if(is.numeric, scale)"
   ]
  },
  {
   "cell_type": "code",
   "execution_count": 66,
   "id": "armed-weapon",
   "metadata": {},
   "outputs": [],
   "source": [
    "# Normalizando colunas númerica nos dados de treino\n",
    "dados_treino_scaled<- dados_treino %>%\n",
    "mutate_if(is.numeric, scale) "
   ]
  },
  {
   "cell_type": "code",
   "execution_count": 69,
   "id": "tutorial-bloom",
   "metadata": {},
   "outputs": [
    {
     "data": {
      "text/html": [
       "<table>\n",
       "<thead><tr><th></th><th scope=col>LIMIT_BAL</th><th scope=col>SEX</th><th scope=col>EDUCATION</th><th scope=col>MARRIAGE</th><th scope=col>AGE</th><th scope=col>PAY_0</th><th scope=col>PAY_2</th><th scope=col>PAY_3</th><th scope=col>PAY_4</th><th scope=col>PAY_5</th><th scope=col>...</th><th scope=col>BILL_AMT4</th><th scope=col>BILL_AMT5</th><th scope=col>BILL_AMT6</th><th scope=col>PAY_AMT1</th><th scope=col>PAY_AMT2</th><th scope=col>PAY_AMT3</th><th scope=col>PAY_AMT4</th><th scope=col>PAY_AMT5</th><th scope=col>PAY_AMT6</th><th scope=col>DEFAULTING</th></tr></thead>\n",
       "<tbody>\n",
       "\t<tr><th scope=row>3</th><td>-0.6006810     </td><td>Female         </td><td>University     </td><td>Single         </td><td>-0.1575676     </td><td>0              </td><td>0              </td><td>0              </td><td>0              </td><td>0              </td><td>...            </td><td>-0.4479878     </td><td>-0.4161436     </td><td>-0.3904622     </td><td>-0.2556112     </td><td>-0.1882279     </td><td>-0.2570875     </td><td>-0.2458528     </td><td>-0.2452309     </td><td>-0.01323816    </td><td>Yes            </td></tr>\n",
       "\t<tr><th scope=row>4</th><td>-0.9093325     </td><td>Female         </td><td>University     </td><td>Married        </td><td> 0.1689699     </td><td>0              </td><td>0              </td><td>0              </td><td>0              </td><td>0              </td><td>...            </td><td>-0.2316695     </td><td>-0.1860563     </td><td>-0.1556161     </td><td>-0.2259948     </td><td>-0.1662670     </td><td>-0.2447565     </td><td>-0.2394732     </td><td>-0.2408007     </td><td>-0.23503303    </td><td>Yes            </td></tr>\n",
       "\t<tr><th scope=row>5</th><td>-0.9093325     </td><td>Male           </td><td>University     </td><td>Married        </td><td> 2.3458863     </td><td>-1             </td><td>0              </td><td>-1             </td><td>0              </td><td>0              </td><td>...            </td><td>-0.3457459     </td><td>-0.3472044     </td><td>-0.3303665     </td><td>-0.2259948     </td><td> 1.3004171     </td><td> 0.2978082     </td><td> 0.2645086     </td><td>-0.2651990     </td><td>-0.25283206    </td><td>Yes            </td></tr>\n",
       "\t<tr><th scope=row>7</th><td> 2.5629968     </td><td>Male           </td><td>Graduate School</td><td>Single         </td><td>-0.7017967     </td><td>0              </td><td>0              </td><td>0              </td><td>0              </td><td>0              </td><td>...            </td><td> 7.7252040     </td><td> 7.2702088     </td><td> 7.3000835     </td><td> 3.0305864     </td><td> 1.4408569     </td><td> 2.0241505     </td><td> 0.9815026     </td><td> 0.5733954     </td><td> 0.47304708    </td><td>Yes            </td></tr>\n",
       "\t<tr><th scope=row>8</th><td>-0.5235182     </td><td>Female         </td><td>University     </td><td>Single         </td><td>-1.3548716     </td><td>0              </td><td>-1             </td><td>-1             </td><td>0              </td><td>0              </td><td>...            </td><td>-0.6662708     </td><td>-0.6642292     </td><td>-0.6418169     </td><td>-0.3255356     </td><td>-0.2262680     </td><td>-0.3187426     </td><td>-0.2725829     </td><td>-0.2011214     </td><td>-0.20497982    </td><td>Yes            </td></tr>\n",
       "\t<tr><th scope=row>9</th><td>-0.2148667     </td><td>Female         </td><td>High School    </td><td>Married        </td><td>-0.8106425     </td><td>0              </td><td>0              </td><td>2              </td><td>0              </td><td>0              </td><td>...            </td><td>-0.4807844     </td><td>-0.4679547     </td><td>-0.5889354     </td><td>-0.1443345     </td><td>-0.2516987     </td><td>-0.2921076     </td><td>-0.2458528     </td><td>-0.2452309     </td><td>-0.23503303    </td><td>Yes            </td></tr>\n",
       "</tbody>\n",
       "</table>\n"
      ],
      "text/latex": [
       "\\begin{tabular}{r|llllllllllllllllllllllll}\n",
       "  & LIMIT\\_BAL & SEX & EDUCATION & MARRIAGE & AGE & PAY\\_0 & PAY\\_2 & PAY\\_3 & PAY\\_4 & PAY\\_5 & ... & BILL\\_AMT4 & BILL\\_AMT5 & BILL\\_AMT6 & PAY\\_AMT1 & PAY\\_AMT2 & PAY\\_AMT3 & PAY\\_AMT4 & PAY\\_AMT5 & PAY\\_AMT6 & DEFAULTING\\\\\n",
       "\\hline\n",
       "\t3 & -0.6006810      & Female          & University      & Single          & -0.1575676      & 0               & 0               & 0               & 0               & 0               & ...             & -0.4479878      & -0.4161436      & -0.3904622      & -0.2556112      & -0.1882279      & -0.2570875      & -0.2458528      & -0.2452309      & -0.01323816     & Yes            \\\\\n",
       "\t4 & -0.9093325      & Female          & University      & Married         &  0.1689699      & 0               & 0               & 0               & 0               & 0               & ...             & -0.2316695      & -0.1860563      & -0.1556161      & -0.2259948      & -0.1662670      & -0.2447565      & -0.2394732      & -0.2408007      & -0.23503303     & Yes            \\\\\n",
       "\t5 & -0.9093325      & Male            & University      & Married         &  2.3458863      & -1              & 0               & -1              & 0               & 0               & ...             & -0.3457459      & -0.3472044      & -0.3303665      & -0.2259948      &  1.3004171      &  0.2978082      &  0.2645086      & -0.2651990      & -0.25283206     & Yes            \\\\\n",
       "\t7 &  2.5629968      & Male            & Graduate School & Single          & -0.7017967      & 0               & 0               & 0               & 0               & 0               & ...             &  7.7252040      &  7.2702088      &  7.3000835      &  3.0305864      &  1.4408569      &  2.0241505      &  0.9815026      &  0.5733954      &  0.47304708     & Yes            \\\\\n",
       "\t8 & -0.5235182      & Female          & University      & Single          & -1.3548716      & 0               & -1              & -1              & 0               & 0               & ...             & -0.6662708      & -0.6642292      & -0.6418169      & -0.3255356      & -0.2262680      & -0.3187426      & -0.2725829      & -0.2011214      & -0.20497982     & Yes            \\\\\n",
       "\t9 & -0.2148667      & Female          & High School     & Married         & -0.8106425      & 0               & 0               & 2               & 0               & 0               & ...             & -0.4807844      & -0.4679547      & -0.5889354      & -0.1443345      & -0.2516987      & -0.2921076      & -0.2458528      & -0.2452309      & -0.23503303     & Yes            \\\\\n",
       "\\end{tabular}\n"
      ],
      "text/markdown": [
       "\n",
       "| <!--/--> | LIMIT_BAL | SEX | EDUCATION | MARRIAGE | AGE | PAY_0 | PAY_2 | PAY_3 | PAY_4 | PAY_5 | ... | BILL_AMT4 | BILL_AMT5 | BILL_AMT6 | PAY_AMT1 | PAY_AMT2 | PAY_AMT3 | PAY_AMT4 | PAY_AMT5 | PAY_AMT6 | DEFAULTING |\n",
       "|---|---|---|---|---|---|---|---|---|---|---|---|---|---|---|---|---|---|---|---|---|---|\n",
       "| 3 | -0.6006810      | Female          | University      | Single          | -0.1575676      | 0               | 0               | 0               | 0               | 0               | ...             | -0.4479878      | -0.4161436      | -0.3904622      | -0.2556112      | -0.1882279      | -0.2570875      | -0.2458528      | -0.2452309      | -0.01323816     | Yes             |\n",
       "| 4 | -0.9093325      | Female          | University      | Married         |  0.1689699      | 0               | 0               | 0               | 0               | 0               | ...             | -0.2316695      | -0.1860563      | -0.1556161      | -0.2259948      | -0.1662670      | -0.2447565      | -0.2394732      | -0.2408007      | -0.23503303     | Yes             |\n",
       "| 5 | -0.9093325      | Male            | University      | Married         |  2.3458863      | -1              | 0               | -1              | 0               | 0               | ...             | -0.3457459      | -0.3472044      | -0.3303665      | -0.2259948      |  1.3004171      |  0.2978082      |  0.2645086      | -0.2651990      | -0.25283206     | Yes             |\n",
       "| 7 |  2.5629968      | Male            | Graduate School | Single          | -0.7017967      | 0               | 0               | 0               | 0               | 0               | ...             |  7.7252040      |  7.2702088      |  7.3000835      |  3.0305864      |  1.4408569      |  2.0241505      |  0.9815026      |  0.5733954      |  0.47304708     | Yes             |\n",
       "| 8 | -0.5235182      | Female          | University      | Single          | -1.3548716      | 0               | -1              | -1              | 0               | 0               | ...             | -0.6662708      | -0.6642292      | -0.6418169      | -0.3255356      | -0.2262680      | -0.3187426      | -0.2725829      | -0.2011214      | -0.20497982     | Yes             |\n",
       "| 9 | -0.2148667      | Female          | High School     | Married         | -0.8106425      | 0               | 0               | 2               | 0               | 0               | ...             | -0.4807844      | -0.4679547      | -0.5889354      | -0.1443345      | -0.2516987      | -0.2921076      | -0.2458528      | -0.2452309      | -0.23503303     | Yes             |\n",
       "\n"
      ],
      "text/plain": [
       "  LIMIT_BAL  SEX    EDUCATION       MARRIAGE AGE        PAY_0 PAY_2 PAY_3 PAY_4\n",
       "3 -0.6006810 Female University      Single   -0.1575676 0     0     0     0    \n",
       "4 -0.9093325 Female University      Married   0.1689699 0     0     0     0    \n",
       "5 -0.9093325 Male   University      Married   2.3458863 -1    0     -1    0    \n",
       "7  2.5629968 Male   Graduate School Single   -0.7017967 0     0     0     0    \n",
       "8 -0.5235182 Female University      Single   -1.3548716 0     -1    -1    0    \n",
       "9 -0.2148667 Female High School     Married  -0.8106425 0     0     2     0    \n",
       "  PAY_5 ... BILL_AMT4  BILL_AMT5  BILL_AMT6  PAY_AMT1   PAY_AMT2   PAY_AMT3  \n",
       "3 0     ... -0.4479878 -0.4161436 -0.3904622 -0.2556112 -0.1882279 -0.2570875\n",
       "4 0     ... -0.2316695 -0.1860563 -0.1556161 -0.2259948 -0.1662670 -0.2447565\n",
       "5 0     ... -0.3457459 -0.3472044 -0.3303665 -0.2259948  1.3004171  0.2978082\n",
       "7 0     ...  7.7252040  7.2702088  7.3000835  3.0305864  1.4408569  2.0241505\n",
       "8 0     ... -0.6662708 -0.6642292 -0.6418169 -0.3255356 -0.2262680 -0.3187426\n",
       "9 0     ... -0.4807844 -0.4679547 -0.5889354 -0.1443345 -0.2516987 -0.2921076\n",
       "  PAY_AMT4   PAY_AMT5   PAY_AMT6    DEFAULTING\n",
       "3 -0.2458528 -0.2452309 -0.01323816 Yes       \n",
       "4 -0.2394732 -0.2408007 -0.23503303 Yes       \n",
       "5  0.2645086 -0.2651990 -0.25283206 Yes       \n",
       "7  0.9815026  0.5733954  0.47304708 Yes       \n",
       "8 -0.2725829 -0.2011214 -0.20497982 Yes       \n",
       "9 -0.2458528 -0.2452309 -0.23503303 Yes       "
      ]
     },
     "metadata": {},
     "output_type": "display_data"
    }
   ],
   "source": [
    "# Visualizando as seis primeiras linhas do dados de treino normalizado\n",
    "head(dados_treino_scaled)"
   ]
  },
  {
   "cell_type": "code",
   "execution_count": 70,
   "id": "sharing-stroke",
   "metadata": {},
   "outputs": [
    {
     "data": {
      "text/html": [
       "<dl class=dl-horizontal>\n",
       "\t<dt>LIMIT_BAL</dt>\n",
       "\t\t<dd>0</dd>\n",
       "\t<dt>SEX</dt>\n",
       "\t\t<dd>0</dd>\n",
       "\t<dt>EDUCATION</dt>\n",
       "\t\t<dd>0</dd>\n",
       "\t<dt>MARRIAGE</dt>\n",
       "\t\t<dd>0</dd>\n",
       "\t<dt>AGE</dt>\n",
       "\t\t<dd>0</dd>\n",
       "\t<dt>PAY_0</dt>\n",
       "\t\t<dd>0</dd>\n",
       "\t<dt>PAY_2</dt>\n",
       "\t\t<dd>0</dd>\n",
       "\t<dt>PAY_3</dt>\n",
       "\t\t<dd>0</dd>\n",
       "\t<dt>PAY_4</dt>\n",
       "\t\t<dd>0</dd>\n",
       "\t<dt>PAY_5</dt>\n",
       "\t\t<dd>0</dd>\n",
       "\t<dt>PAY_6</dt>\n",
       "\t\t<dd>0</dd>\n",
       "\t<dt>BILL_AMT1</dt>\n",
       "\t\t<dd>0</dd>\n",
       "\t<dt>BILL_AMT2</dt>\n",
       "\t\t<dd>0</dd>\n",
       "\t<dt>BILL_AMT3</dt>\n",
       "\t\t<dd>0</dd>\n",
       "\t<dt>BILL_AMT4</dt>\n",
       "\t\t<dd>0</dd>\n",
       "\t<dt>BILL_AMT5</dt>\n",
       "\t\t<dd>0</dd>\n",
       "\t<dt>BILL_AMT6</dt>\n",
       "\t\t<dd>0</dd>\n",
       "\t<dt>PAY_AMT1</dt>\n",
       "\t\t<dd>0</dd>\n",
       "\t<dt>PAY_AMT2</dt>\n",
       "\t\t<dd>0</dd>\n",
       "\t<dt>PAY_AMT3</dt>\n",
       "\t\t<dd>0</dd>\n",
       "\t<dt>PAY_AMT4</dt>\n",
       "\t\t<dd>0</dd>\n",
       "\t<dt>PAY_AMT5</dt>\n",
       "\t\t<dd>0</dd>\n",
       "\t<dt>PAY_AMT6</dt>\n",
       "\t\t<dd>0</dd>\n",
       "\t<dt>DEFAULTING</dt>\n",
       "\t\t<dd>0</dd>\n",
       "</dl>\n"
      ],
      "text/latex": [
       "\\begin{description*}\n",
       "\\item[LIMIT\\textbackslash{}\\_BAL] 0\n",
       "\\item[SEX] 0\n",
       "\\item[EDUCATION] 0\n",
       "\\item[MARRIAGE] 0\n",
       "\\item[AGE] 0\n",
       "\\item[PAY\\textbackslash{}\\_0] 0\n",
       "\\item[PAY\\textbackslash{}\\_2] 0\n",
       "\\item[PAY\\textbackslash{}\\_3] 0\n",
       "\\item[PAY\\textbackslash{}\\_4] 0\n",
       "\\item[PAY\\textbackslash{}\\_5] 0\n",
       "\\item[PAY\\textbackslash{}\\_6] 0\n",
       "\\item[BILL\\textbackslash{}\\_AMT1] 0\n",
       "\\item[BILL\\textbackslash{}\\_AMT2] 0\n",
       "\\item[BILL\\textbackslash{}\\_AMT3] 0\n",
       "\\item[BILL\\textbackslash{}\\_AMT4] 0\n",
       "\\item[BILL\\textbackslash{}\\_AMT5] 0\n",
       "\\item[BILL\\textbackslash{}\\_AMT6] 0\n",
       "\\item[PAY\\textbackslash{}\\_AMT1] 0\n",
       "\\item[PAY\\textbackslash{}\\_AMT2] 0\n",
       "\\item[PAY\\textbackslash{}\\_AMT3] 0\n",
       "\\item[PAY\\textbackslash{}\\_AMT4] 0\n",
       "\\item[PAY\\textbackslash{}\\_AMT5] 0\n",
       "\\item[PAY\\textbackslash{}\\_AMT6] 0\n",
       "\\item[DEFAULTING] 0\n",
       "\\end{description*}\n"
      ],
      "text/markdown": [
       "LIMIT_BAL\n",
       ":   0SEX\n",
       ":   0EDUCATION\n",
       ":   0MARRIAGE\n",
       ":   0AGE\n",
       ":   0PAY_0\n",
       ":   0PAY_2\n",
       ":   0PAY_3\n",
       ":   0PAY_4\n",
       ":   0PAY_5\n",
       ":   0PAY_6\n",
       ":   0BILL_AMT1\n",
       ":   0BILL_AMT2\n",
       ":   0BILL_AMT3\n",
       ":   0BILL_AMT4\n",
       ":   0BILL_AMT5\n",
       ":   0BILL_AMT6\n",
       ":   0PAY_AMT1\n",
       ":   0PAY_AMT2\n",
       ":   0PAY_AMT3\n",
       ":   0PAY_AMT4\n",
       ":   0PAY_AMT5\n",
       ":   0PAY_AMT6\n",
       ":   0DEFAULTING\n",
       ":   0\n",
       "\n"
      ],
      "text/plain": [
       " LIMIT_BAL        SEX  EDUCATION   MARRIAGE        AGE      PAY_0      PAY_2 \n",
       "         0          0          0          0          0          0          0 \n",
       "     PAY_3      PAY_4      PAY_5      PAY_6  BILL_AMT1  BILL_AMT2  BILL_AMT3 \n",
       "         0          0          0          0          0          0          0 \n",
       " BILL_AMT4  BILL_AMT5  BILL_AMT6   PAY_AMT1   PAY_AMT2   PAY_AMT3   PAY_AMT4 \n",
       "         0          0          0          0          0          0          0 \n",
       "  PAY_AMT5   PAY_AMT6 DEFAULTING \n",
       "         0          0          0 "
      ]
     },
     "metadata": {},
     "output_type": "display_data"
    }
   ],
   "source": [
    "# Checando NAs\n",
    "sapply(dados_treino_scaled, function(x) sum(is.na(x)))"
   ]
  },
  {
   "cell_type": "markdown",
   "id": "federal-forwarding",
   "metadata": {},
   "source": [
    "### MODELO 1"
   ]
  },
  {
   "cell_type": "markdown",
   "id": "lasting-thesaurus",
   "metadata": {},
   "source": [
    "* Iremos aplicar o método de validação cruzada (em todos os modelos)\n",
    "* O primeiro modelo terá a variável *Defaulting* como dependente e todas as restantes como independentes"
   ]
  },
  {
   "cell_type": "code",
   "execution_count": 71,
   "id": "above-radius",
   "metadata": {},
   "outputs": [],
   "source": [
    "# Arquivo de controle\n",
    "ctrl <- trainControl(method = \"repeatedcv\", repeats = 3) "
   ]
  },
  {
   "cell_type": "code",
   "execution_count": 72,
   "id": "periodic-collect",
   "metadata": {},
   "outputs": [],
   "source": [
    "# Criação do modelo1\n",
    "knn_v1 <- train(DEFAULTING ~ ., \n",
    "                data = dados_treino_scaled, \n",
    "                method = \"knn\", \n",
    "                trControl = ctrl, \n",
    "                tuneLength = 20)"
   ]
  },
  {
   "cell_type": "code",
   "execution_count": 73,
   "id": "flexible-nurse",
   "metadata": {},
   "outputs": [
    {
     "data": {
      "image/png": "[encoded data removed]",
      "text/plain": [
       "plot without title"
      ]
     },
     "metadata": {},
     "output_type": "display_data"
    }
   ],
   "source": [
    "# Número de Vizinhos x Acurácia Modelo1\n",
    "plot(knn_v1)"
   ]
  },
  {
   "cell_type": "code",
   "execution_count": 74,
   "id": "whole-sailing",
   "metadata": {},
   "outputs": [],
   "source": [
    "# Fazendo previsões\n",
    "knnPredict1 <- predict(knn_v1, newdata = dados_teste_scaled)\n"
   ]
  },
  {
   "cell_type": "code",
   "execution_count": 75,
   "id": "forbidden-chaos",
   "metadata": {},
   "outputs": [
    {
     "data": {
      "text/plain": [
       "Confusion Matrix and Statistics\n",
       "\n",
       "          Reference\n",
       "Prediction  Yes   No\n",
       "       Yes 5526 1161\n",
       "       No   235  491\n",
       "                                          \n",
       "               Accuracy : 0.8117          \n",
       "                 95% CI : (0.8026, 0.8205)\n",
       "    No Information Rate : 0.7771          \n",
       "    P-Value [Acc > NIR] : 1.796e-13       \n",
       "                                          \n",
       "                  Kappa : 0.3205          \n",
       "                                          \n",
       " Mcnemar's Test P-Value : < 2.2e-16       \n",
       "                                          \n",
       "            Sensitivity : 0.9592          \n",
       "            Specificity : 0.2972          \n",
       "         Pos Pred Value : 0.8264          \n",
       "         Neg Pred Value : 0.6763          \n",
       "             Prevalence : 0.7771          \n",
       "         Detection Rate : 0.7454          \n",
       "   Detection Prevalence : 0.9021          \n",
       "      Balanced Accuracy : 0.6282          \n",
       "                                          \n",
       "       'Positive' Class : Yes             \n",
       "                                          "
      ]
     },
     "metadata": {},
     "output_type": "display_data"
    }
   ],
   "source": [
    "# Criando a Confusion Matrix\n",
    "confusionMatrix(knnPredict1, dados_teste$DEFAULTING)"
   ]
  },
  {
   "cell_type": "code",
   "execution_count": 76,
   "id": "extra-government",
   "metadata": {},
   "outputs": [],
   "source": [
    "# Definindo valores de y e y_pred\n",
    "y<- dados_teste$DEFAULTING\n",
    "y_pred_v1<- knnPredict1"
   ]
  },
  {
   "cell_type": "code",
   "execution_count": 77,
   "id": "european-agency",
   "metadata": {},
   "outputs": [
    {
     "data": {
      "text/html": [
       "0.826379542395693"
      ],
      "text/latex": [
       "0.826379542395693"
      ],
      "text/markdown": [
       "0.826379542395693"
      ],
      "text/plain": [
       "[1] 0.8263795"
      ]
     },
     "metadata": {},
     "output_type": "display_data"
    }
   ],
   "source": [
    "# Calculando Precision\n",
    "precision_v1<- posPredValue(y_pred_v1,y)\n",
    "precision_v1"
   ]
  },
  {
   "cell_type": "code",
   "execution_count": 78,
   "id": "revised-michigan",
   "metadata": {},
   "outputs": [
    {
     "data": {
      "text/html": [
       "0.959208470751606"
      ],
      "text/latex": [
       "0.959208470751606"
      ],
      "text/markdown": [
       "0.959208470751606"
      ],
      "text/plain": [
       "[1] 0.9592085"
      ]
     },
     "metadata": {},
     "output_type": "display_data"
    }
   ],
   "source": [
    "# Calculando recall\n",
    "recall_v1<- sensitivity(y_pred_v1,y)\n",
    "recall_v1"
   ]
  },
  {
   "cell_type": "code",
   "execution_count": 79,
   "id": "imported-tournament",
   "metadata": {},
   "outputs": [
    {
     "data": {
      "text/html": [
       "0.887853470437018"
      ],
      "text/latex": [
       "0.887853470437018"
      ],
      "text/markdown": [
       "0.887853470437018"
      ],
      "text/plain": [
       "[1] 0.8878535"
      ]
     },
     "metadata": {},
     "output_type": "display_data"
    }
   ],
   "source": [
    "# Calculando F1-Score\n",
    "F1_v1<- (2 * precision_v1 * recall_v1) / (precision_v1 + recall_v1)\n",
    "F1_v1"
   ]
  },
  {
   "cell_type": "markdown",
   "id": "accurate-software",
   "metadata": {},
   "source": [
    "### MODELO 2"
   ]
  },
  {
   "cell_type": "code",
   "execution_count": 80,
   "id": "flush-airport",
   "metadata": {},
   "outputs": [],
   "source": [
    "# Arquivo de controle\n",
    "ctrl2 <- trainControl(method = \"repeatedcv\", \n",
    "                     repeats = 3, \n",
    "                     classProbs = TRUE,\n",
    "                     summaryFunction = twoClassSummary)\n",
    "\n"
   ]
  },
  {
   "cell_type": "code",
   "execution_count": 81,
   "id": "limiting-promotion",
   "metadata": {},
   "outputs": [],
   "source": [
    "# Treinamento do modelo\n",
    "knn_v2 <- train(DEFAULTING ~ ., \n",
    "                data = dados_treino_scaled, \n",
    "                method = \"knn\", \n",
    "                trControl = ctrl2, \n",
    "                metric = \"ROC\",\n",
    "                tuneLength = 20)"
   ]
  },
  {
   "cell_type": "code",
   "execution_count": 82,
   "id": "guilty-capability",
   "metadata": {},
   "outputs": [
    {
     "data": {
      "image/png": "[encoded data removed]",
      "text/plain": [
       "plot without title"
      ]
     },
     "metadata": {},
     "output_type": "display_data"
    }
   ],
   "source": [
    "# Número de Vizinhos x Acurácia\n",
    "plot(knn_v2, print.thres = 0.5, type=\"S\")"
   ]
  },
  {
   "cell_type": "code",
   "execution_count": 83,
   "id": "treated-pound",
   "metadata": {},
   "outputs": [],
   "source": [
    "# Fazendo previsões\n",
    "knnPredict2 <- predict(knn_v2, newdata = dados_teste_scaled)\n"
   ]
  },
  {
   "cell_type": "code",
   "execution_count": 84,
   "id": "adult-career",
   "metadata": {},
   "outputs": [
    {
     "data": {
      "text/plain": [
       "Confusion Matrix and Statistics\n",
       "\n",
       "          Reference\n",
       "Prediction  Yes   No\n",
       "       Yes 5567 1200\n",
       "       No   194  452\n",
       "                                          \n",
       "               Accuracy : 0.812           \n",
       "                 95% CI : (0.8029, 0.8208)\n",
       "    No Information Rate : 0.7771          \n",
       "    P-Value [Acc > NIR] : 1.166e-13       \n",
       "                                          \n",
       "                  Kappa : 0.3065          \n",
       "                                          \n",
       " Mcnemar's Test P-Value : < 2.2e-16       \n",
       "                                          \n",
       "            Sensitivity : 0.9663          \n",
       "            Specificity : 0.2736          \n",
       "         Pos Pred Value : 0.8227          \n",
       "         Neg Pred Value : 0.6997          \n",
       "             Prevalence : 0.7771          \n",
       "         Detection Rate : 0.7510          \n",
       "   Detection Prevalence : 0.9129          \n",
       "      Balanced Accuracy : 0.6200          \n",
       "                                          \n",
       "       'Positive' Class : Yes             \n",
       "                                          "
      ]
     },
     "metadata": {},
     "output_type": "display_data"
    }
   ],
   "source": [
    "# Criando a Confusion Matrix\n",
    "confusionMatrix(knnPredict2, dados_teste$DEFAULTING)"
   ]
  },
  {
   "cell_type": "code",
   "execution_count": 86,
   "id": "specified-third",
   "metadata": {},
   "outputs": [],
   "source": [
    "# Definindo valores de y e y_pred\n",
    "y<- dados_teste$DEFAULTING\n",
    "y_pred_v2<- knnPredict2"
   ]
  },
  {
   "cell_type": "code",
   "execution_count": 87,
   "id": "consecutive-likelihood",
   "metadata": {},
   "outputs": [
    {
     "data": {
      "text/html": [
       "0.822668834047584"
      ],
      "text/latex": [
       "0.822668834047584"
      ],
      "text/markdown": [
       "0.822668834047584"
      ],
      "text/plain": [
       "[1] 0.8226688"
      ]
     },
     "metadata": {},
     "output_type": "display_data"
    }
   ],
   "source": [
    "# Calculando Precision\n",
    "precision_v2<- posPredValue(y_pred_v2,y)\n",
    "precision_v2"
   ]
  },
  {
   "cell_type": "code",
   "execution_count": 88,
   "id": "narrative-appliance",
   "metadata": {},
   "outputs": [
    {
     "data": {
      "text/html": [
       "0.966325290748134"
      ],
      "text/latex": [
       "0.966325290748134"
      ],
      "text/markdown": [
       "0.966325290748134"
      ],
      "text/plain": [
       "[1] 0.9663253"
      ]
     },
     "metadata": {},
     "output_type": "display_data"
    }
   ],
   "source": [
    "# Calculando recall\n",
    "recall_v2<- sensitivity(y_pred_v2,y)\n",
    "recall_v2"
   ]
  },
  {
   "cell_type": "code",
   "execution_count": 89,
   "id": "visible-living",
   "metadata": {},
   "outputs": [
    {
     "data": {
      "text/html": [
       "0.888729246487867"
      ],
      "text/latex": [
       "0.888729246487867"
      ],
      "text/markdown": [
       "0.888729246487867"
      ],
      "text/plain": [
       "[1] 0.8887292"
      ]
     },
     "metadata": {},
     "output_type": "display_data"
    }
   ],
   "source": [
    "# Calculando F1-Score\n",
    "F1_v2<- (2 * precision_v2 * recall_v2) / (precision_v2 + recall_v2)\n",
    "F1_v2"
   ]
  },
  {
   "cell_type": "markdown",
   "id": "after-kitty",
   "metadata": {},
   "source": [
    "### MODELO 3"
   ]
  },
  {
   "cell_type": "markdown",
   "id": "alpine-transition",
   "metadata": {},
   "source": [
    "* Iremos realizar o balanceamento, para resolver problema de desequilíbrio de classe (*Defaulting)"
   ]
  },
  {
   "cell_type": "code",
   "execution_count": 90,
   "id": "loaded-priority",
   "metadata": {},
   "outputs": [],
   "source": [
    "# Balanceamento de classe\n",
    "dados_treino_bal<- SMOTE(DEFAULTING ~.,dados_treino_scaled)"
   ]
  },
  {
   "cell_type": "code",
   "execution_count": 91,
   "id": "absent-audit",
   "metadata": {},
   "outputs": [],
   "source": [
    "# Arquivo de controle\n",
    "ctrl <- trainControl(method = \"repeatedcv\", repeats = 3) "
   ]
  },
  {
   "cell_type": "code",
   "execution_count": 92,
   "id": "exact-rental",
   "metadata": {},
   "outputs": [],
   "source": [
    "# Criação do modelo\n",
    "knn_v3 <- train(DEFAULTING ~ ., \n",
    "                data = dados_treino_bal, \n",
    "                method = \"knn\", \n",
    "                trControl = ctrl, \n",
    "                tuneLength = 20)"
   ]
  },
  {
   "cell_type": "code",
   "execution_count": 93,
   "id": "serious-tsunami",
   "metadata": {},
   "outputs": [
    {
     "data": {
      "image/png": "[encoded data removed]",
      "text/plain": [
       "plot without title"
      ]
     },
     "metadata": {},
     "output_type": "display_data"
    }
   ],
   "source": [
    "# Número de Vizinhos x Acurácia\n",
    "plot(knn_v3)"
   ]
  },
  {
   "cell_type": "code",
   "execution_count": 96,
   "id": "bizarre-finland",
   "metadata": {},
   "outputs": [],
   "source": [
    "# Fazendo previsões\n",
    "knnPredict3 <- predict(knn_v3, newdata = dados_teste_scaled)\n"
   ]
  },
  {
   "cell_type": "code",
   "execution_count": 97,
   "id": "generous-registration",
   "metadata": {},
   "outputs": [
    {
     "data": {
      "text/plain": [
       "Confusion Matrix and Statistics\n",
       "\n",
       "          Reference\n",
       "Prediction  Yes   No\n",
       "       Yes 5100  972\n",
       "       No   661  680\n",
       "                                          \n",
       "               Accuracy : 0.7797          \n",
       "                 95% CI : (0.7701, 0.7891)\n",
       "    No Information Rate : 0.7771          \n",
       "    P-Value [Acc > NIR] : 0.3035          \n",
       "                                          \n",
       "                  Kappa : 0.3183          \n",
       "                                          \n",
       " Mcnemar's Test P-Value : 1.703e-14       \n",
       "                                          \n",
       "            Sensitivity : 0.8853          \n",
       "            Specificity : 0.4116          \n",
       "         Pos Pred Value : 0.8399          \n",
       "         Neg Pred Value : 0.5071          \n",
       "             Prevalence : 0.7771          \n",
       "         Detection Rate : 0.6880          \n",
       "   Detection Prevalence : 0.8191          \n",
       "      Balanced Accuracy : 0.6484          \n",
       "                                          \n",
       "       'Positive' Class : Yes             \n",
       "                                          "
      ]
     },
     "metadata": {},
     "output_type": "display_data"
    }
   ],
   "source": [
    "# Cria a Confusion Matrix\n",
    "confusionMatrix(knnPredict3, dados_teste$DEFAULTING)"
   ]
  },
  {
   "cell_type": "code",
   "execution_count": 98,
   "id": "wrapped-character",
   "metadata": {},
   "outputs": [],
   "source": [
    "# Definindo valores de y e y_pred\n",
    "y<- dados_teste$DEFAULTING\n",
    "y_pred_v3<- knnPredict3"
   ]
  },
  {
   "cell_type": "code",
   "execution_count": 99,
   "id": "compatible-failure",
   "metadata": {},
   "outputs": [
    {
     "data": {
      "text/html": [
       "0.839920948616601"
      ],
      "text/latex": [
       "0.839920948616601"
      ],
      "text/markdown": [
       "0.839920948616601"
      ],
      "text/plain": [
       "[1] 0.8399209"
      ]
     },
     "metadata": {},
     "output_type": "display_data"
    }
   ],
   "source": [
    "# Calculando Precision\n",
    "precision_v3<- posPredValue(y_pred_v3,y)\n",
    "precision_v3"
   ]
  },
  {
   "cell_type": "code",
   "execution_count": 100,
   "id": "sustainable-shift",
   "metadata": {},
   "outputs": [
    {
     "data": {
      "text/html": [
       "0.885262975177921"
      ],
      "text/latex": [
       "0.885262975177921"
      ],
      "text/markdown": [
       "0.885262975177921"
      ],
      "text/plain": [
       "[1] 0.885263"
      ]
     },
     "metadata": {},
     "output_type": "display_data"
    }
   ],
   "source": [
    "# Calculando recall\n",
    "recall_v3<- sensitivity(y_pred_v3,y)\n",
    "recall_v3"
   ]
  },
  {
   "cell_type": "code",
   "execution_count": 101,
   "id": "greatest-cliff",
   "metadata": {},
   "outputs": [
    {
     "data": {
      "text/html": [
       "0.861996112566551"
      ],
      "text/latex": [
       "0.861996112566551"
      ],
      "text/markdown": [
       "0.861996112566551"
      ],
      "text/plain": [
       "[1] 0.8619961"
      ]
     },
     "metadata": {},
     "output_type": "display_data"
    }
   ],
   "source": [
    "# Calculando F1-Score\n",
    "F1_v3<- (2 * precision_v3 * recall_v3) / (precision_v3 + recall_v3)\n",
    "F1_v3"
   ]
  },
  {
   "cell_type": "markdown",
   "id": "infectious-transmission",
   "metadata": {},
   "source": [
    "### MODELO 4"
   ]
  },
  {
   "cell_type": "markdown",
   "id": "biological-guatemala",
   "metadata": {},
   "source": [
    "* Iremos selecionar as variáveis mais importantes do modelo 3 (dados balanceados)"
   ]
  },
  {
   "cell_type": "code",
   "execution_count": 102,
   "id": "later-bibliography",
   "metadata": {},
   "outputs": [
    {
     "data": {
      "text/plain": [
       "ROC curve variable importance\n",
       "\n",
       "  only 20 most important variables shown (out of 23)\n",
       "\n",
       "          Importance\n",
       "PAY_0        100.000\n",
       "PAY_2         71.770\n",
       "LIMIT_BAL     68.901\n",
       "PAY_3         65.779\n",
       "PAY_4         60.665\n",
       "PAY_AMT1      60.578\n",
       "PAY_AMT2      56.227\n",
       "PAY_5         55.732\n",
       "PAY_6         50.737\n",
       "PAY_AMT3      48.912\n",
       "PAY_AMT4      42.179\n",
       "PAY_AMT6      40.165\n",
       "PAY_AMT5      39.191\n",
       "SEX           25.262\n",
       "EDUCATION     21.578\n",
       "BILL_AMT1     12.702\n",
       "MARRIAGE      12.391\n",
       "BILL_AMT2      8.158\n",
       "AGE            7.608\n",
       "BILL_AMT3      6.131"
      ]
     },
     "metadata": {},
     "output_type": "display_data"
    }
   ],
   "source": [
    "# Variáveis mais importantes\n",
    "varImp(knn_v3)"
   ]
  },
  {
   "cell_type": "code",
   "execution_count": 103,
   "id": "ambient-combine",
   "metadata": {},
   "outputs": [],
   "source": [
    "# Arquivo de controle\n",
    "ctrl <- trainControl(method = \"repeatedcv\", repeats = 3) "
   ]
  },
  {
   "cell_type": "code",
   "execution_count": 104,
   "id": "nominated-springer",
   "metadata": {},
   "outputs": [],
   "source": [
    "# Criação do modelo\n",
    "knn_v4 <- train(DEFAULTING ~ PAY_0+PAY_2+LIMIT_BAL+PAY_3+PAY_AMT1+PAY_4+PAY_AMT2, \n",
    "                data = dados_treino_bal, \n",
    "                method = \"knn\", \n",
    "                trControl = ctrl, \n",
    "                tuneLength = 20)"
   ]
  },
  {
   "cell_type": "code",
   "execution_count": 105,
   "id": "statutory-carroll",
   "metadata": {},
   "outputs": [
    {
     "data": {
      "image/png": "[encoded data removed]",
      "text/plain": [
       "plot without title"
      ]
     },
     "metadata": {},
     "output_type": "display_data"
    }
   ],
   "source": [
    "# Número de Vizinhos x Acurácia\n",
    "plot(knn_v4)"
   ]
  },
  {
   "cell_type": "code",
   "execution_count": 107,
   "id": "separated-arrest",
   "metadata": {},
   "outputs": [],
   "source": [
    "# Fazendo previsões\n",
    "knnPredict4 <- predict(knn_v4, newdata = dados_teste_scaled)"
   ]
  },
  {
   "cell_type": "code",
   "execution_count": 108,
   "id": "polished-seafood",
   "metadata": {},
   "outputs": [
    {
     "data": {
      "text/plain": [
       "Confusion Matrix and Statistics\n",
       "\n",
       "          Reference\n",
       "Prediction  Yes   No\n",
       "       Yes 4934  925\n",
       "       No   827  727\n",
       "                                          \n",
       "               Accuracy : 0.7637          \n",
       "                 95% CI : (0.7538, 0.7733)\n",
       "    No Information Rate : 0.7771          \n",
       "    P-Value [Acc > NIR] : 0.99735         \n",
       "                                          \n",
       "                  Kappa : 0.3029          \n",
       "                                          \n",
       " Mcnemar's Test P-Value : 0.02048         \n",
       "                                          \n",
       "            Sensitivity : 0.8564          \n",
       "            Specificity : 0.4401          \n",
       "         Pos Pred Value : 0.8421          \n",
       "         Neg Pred Value : 0.4678          \n",
       "             Prevalence : 0.7771          \n",
       "         Detection Rate : 0.6656          \n",
       "   Detection Prevalence : 0.7904          \n",
       "      Balanced Accuracy : 0.6483          \n",
       "                                          \n",
       "       'Positive' Class : Yes             \n",
       "                                          "
      ]
     },
     "metadata": {},
     "output_type": "display_data"
    }
   ],
   "source": [
    "# Criando a Confusion Matrix\n",
    "confusionMatrix(knnPredict4, dados_teste$DEFAULTING)"
   ]
  },
  {
   "cell_type": "code",
   "execution_count": 109,
   "id": "informal-bandwidth",
   "metadata": {},
   "outputs": [],
   "source": [
    "# Definindo valores de y e y_pred\n",
    "y<- dados_teste$DEFAULTING\n",
    "y_pred_v4<- knnPredict4"
   ]
  },
  {
   "cell_type": "code",
   "execution_count": 110,
   "id": "proud-building",
   "metadata": {},
   "outputs": [
    {
     "data": {
      "text/html": [
       "0.842123229220003"
      ],
      "text/latex": [
       "0.842123229220003"
      ],
      "text/markdown": [
       "0.842123229220003"
      ],
      "text/plain": [
       "[1] 0.8421232"
      ]
     },
     "metadata": {},
     "output_type": "display_data"
    }
   ],
   "source": [
    "# Calculando Precision\n",
    "precision_v4<- posPredValue(y_pred_v4,y)\n",
    "precision_v4"
   ]
  },
  {
   "cell_type": "code",
   "execution_count": 111,
   "id": "civil-inclusion",
   "metadata": {},
   "outputs": [
    {
     "data": {
      "text/html": [
       "0.856448533240757"
      ],
      "text/latex": [
       "0.856448533240757"
      ],
      "text/markdown": [
       "0.856448533240757"
      ],
      "text/plain": [
       "[1] 0.8564485"
      ]
     },
     "metadata": {},
     "output_type": "display_data"
    }
   ],
   "source": [
    "# Calculando recall\n",
    "recall_v4<- sensitivity(y_pred_v4,y)\n",
    "recall_v4"
   ]
  },
  {
   "cell_type": "code",
   "execution_count": 112,
   "id": "legal-poetry",
   "metadata": {},
   "outputs": [
    {
     "data": {
      "text/html": [
       "0.849225473321859"
      ],
      "text/latex": [
       "0.849225473321859"
      ],
      "text/markdown": [
       "0.849225473321859"
      ],
      "text/plain": [
       "[1] 0.8492255"
      ]
     },
     "metadata": {},
     "output_type": "display_data"
    }
   ],
   "source": [
    "# Calculando F1-Score\n",
    "F1_v4<- (2 * precision_v4 * recall_v4) / (precision_v4 + recall_v4)\n",
    "F1_v4"
   ]
  },
  {
   "cell_type": "markdown",
   "id": "monthly-playing",
   "metadata": {},
   "source": [
    "### MODELO 5"
   ]
  },
  {
   "cell_type": "markdown",
   "id": "becoming-british",
   "metadata": {},
   "source": [
    "* Iremos selecionar as variáveis mais importantes do modelo 1 (sem dados balanceados)"
   ]
  },
  {
   "cell_type": "code",
   "execution_count": 113,
   "id": "liberal-approval",
   "metadata": {},
   "outputs": [
    {
     "data": {
      "text/plain": [
       "ROC curve variable importance\n",
       "\n",
       "  only 20 most important variables shown (out of 23)\n",
       "\n",
       "          Importance\n",
       "PAY_0        100.000\n",
       "PAY_2         71.847\n",
       "PAY_3         64.305\n",
       "LIMIT_BAL     60.561\n",
       "PAY_AMT1      59.510\n",
       "PAY_4         57.062\n",
       "PAY_AMT2      54.599\n",
       "PAY_5         52.757\n",
       "PAY_AMT3      50.724\n",
       "PAY_6         47.578\n",
       "PAY_AMT4      47.548\n",
       "PAY_AMT5      43.199\n",
       "PAY_AMT6      42.731\n",
       "EDUCATION     15.210\n",
       "SEX           12.788\n",
       "MARRIAGE      10.902\n",
       "BILL_AMT1      9.174\n",
       "BILL_AMT2      5.648\n",
       "BILL_AMT3      4.168\n",
       "AGE            2.877"
      ]
     },
     "metadata": {},
     "output_type": "display_data"
    }
   ],
   "source": [
    "# Variáveis mais importantes\n",
    "varImp(knn_v1)"
   ]
  },
  {
   "cell_type": "code",
   "execution_count": 114,
   "id": "meaningful-psychology",
   "metadata": {},
   "outputs": [],
   "source": [
    "# Arquivo de controle\n",
    "ctrl <- trainControl(method = \"repeatedcv\", repeats = 3) "
   ]
  },
  {
   "cell_type": "code",
   "execution_count": 115,
   "id": "confirmed-briefs",
   "metadata": {},
   "outputs": [],
   "source": [
    "# Criação do modelo\n",
    "knn_v5 <- train(DEFAULTING ~ PAY_0+PAY_2+LIMIT_BAL+PAY_3+PAY_AMT1+PAY_4+PAY_AMT2, \n",
    "                data = dados_treino_scaled, \n",
    "                method = \"knn\", \n",
    "                trControl = ctrl, \n",
    "                tuneLength = 20)"
   ]
  },
  {
   "cell_type": "code",
   "execution_count": 148,
   "id": "continental-consistency",
   "metadata": {},
   "outputs": [
    {
     "data": {
      "image/png": "[encoded data removed]",
      "text/plain": [
       "plot without title"
      ]
     },
     "metadata": {},
     "output_type": "display_data"
    }
   ],
   "source": [
    "plot(knn_v5)"
   ]
  },
  {
   "cell_type": "code",
   "execution_count": 117,
   "id": "automated-transaction",
   "metadata": {},
   "outputs": [],
   "source": [
    "# Fazendo previsões\n",
    "knnPredict5 <- predict(knn_v5, newdata = dados_teste_scaled)"
   ]
  },
  {
   "cell_type": "code",
   "execution_count": 118,
   "id": "lucky-fighter",
   "metadata": {},
   "outputs": [
    {
     "data": {
      "text/plain": [
       "Confusion Matrix and Statistics\n",
       "\n",
       "          Reference\n",
       "Prediction  Yes   No\n",
       "       Yes 5481 1086\n",
       "       No   280  566\n",
       "                                          \n",
       "               Accuracy : 0.8157          \n",
       "                 95% CI : (0.8067, 0.8245)\n",
       "    No Information Rate : 0.7771          \n",
       "    P-Value [Acc > NIR] : < 2.2e-16       \n",
       "                                          \n",
       "                  Kappa : 0.3559          \n",
       "                                          \n",
       " Mcnemar's Test P-Value : < 2.2e-16       \n",
       "                                          \n",
       "            Sensitivity : 0.9514          \n",
       "            Specificity : 0.3426          \n",
       "         Pos Pred Value : 0.8346          \n",
       "         Neg Pred Value : 0.6690          \n",
       "             Prevalence : 0.7771          \n",
       "         Detection Rate : 0.7394          \n",
       "   Detection Prevalence : 0.8859          \n",
       "      Balanced Accuracy : 0.6470          \n",
       "                                          \n",
       "       'Positive' Class : Yes             \n",
       "                                          "
      ]
     },
     "metadata": {},
     "output_type": "display_data"
    }
   ],
   "source": [
    "# Criando a Confusion Matrix\n",
    "confusionMatrix(knnPredict5, dados_teste$DEFAULTING)"
   ]
  },
  {
   "cell_type": "code",
   "execution_count": 119,
   "id": "special-steel",
   "metadata": {},
   "outputs": [],
   "source": [
    "# Definindo valores de y e y_pred\n",
    "y<- dados_teste$DEFAULTING\n",
    "y_pred_v5<- knnPredict5"
   ]
  },
  {
   "cell_type": "code",
   "execution_count": 120,
   "id": "considerable-commitment",
   "metadata": {},
   "outputs": [
    {
     "data": {
      "text/html": [
       "0.834627683873915"
      ],
      "text/latex": [
       "0.834627683873915"
      ],
      "text/markdown": [
       "0.834627683873915"
      ],
      "text/plain": [
       "[1] 0.8346277"
      ]
     },
     "metadata": {},
     "output_type": "display_data"
    }
   ],
   "source": [
    "# Calculando Precision\n",
    "precision_v5<- posPredValue(y_pred_v5,y)\n",
    "precision_v5"
   ]
  },
  {
   "cell_type": "code",
   "execution_count": 121,
   "id": "laughing-trigger",
   "metadata": {},
   "outputs": [
    {
     "data": {
      "text/html": [
       "0.951397326852977"
      ],
      "text/latex": [
       "0.951397326852977"
      ],
      "text/markdown": [
       "0.951397326852977"
      ],
      "text/plain": [
       "[1] 0.9513973"
      ]
     },
     "metadata": {},
     "output_type": "display_data"
    }
   ],
   "source": [
    "# Calculando recall\n",
    "recall_v5<- sensitivity(y_pred_v5,y)\n",
    "recall_v5"
   ]
  },
  {
   "cell_type": "code",
   "execution_count": 122,
   "id": "fuzzy-channel",
   "metadata": {},
   "outputs": [
    {
     "data": {
      "text/html": [
       "0.88919532770928"
      ],
      "text/latex": [
       "0.88919532770928"
      ],
      "text/markdown": [
       "0.88919532770928"
      ],
      "text/plain": [
       "[1] 0.8891953"
      ]
     },
     "metadata": {},
     "output_type": "display_data"
    }
   ],
   "source": [
    "# Calculando F1-Score\n",
    "F1_v5<- (2 * precision_v5 * recall_v5) / (precision_v5 + recall_v5)\n",
    "F1_v5"
   ]
  },
  {
   "cell_type": "markdown",
   "id": "absolute-roller",
   "metadata": {},
   "source": [
    "**Melhor Modelo**\n",
    "\n",
    "* O modelo 5 foi o que obteve melhor acurácia (*0.8157*), foi o mais equilibrado na relação entre verdadeiros positivos e verdadeiros negativos, com sensibiliade de *0.9514* e especificidade *0.3426*"
   ]
  },
  {
   "cell_type": "markdown",
   "id": "abandoned-costa",
   "metadata": {},
   "source": [
    "## 4. Previsões"
   ]
  },
  {
   "cell_type": "code",
   "execution_count": 132,
   "id": "incomplete-commander",
   "metadata": {},
   "outputs": [],
   "source": [
    "# Preparando dados de entrada\n",
    "PAY_0 = c(2, 2, 0)\n",
    "PAY_2 = c(1, 0, 0)\n",
    "LIMIT_BAL = c(50.000, 30.000, 20.000)\n",
    "PAY_3 = c(-1, 0, -1)\n",
    "PAY_AMT1 = c(1.518, 2.000, 1.483)\n",
    "PAY_4 = c(1,0,0)\n",
    "PAY_AMT2 = c(700,1.000,2.040)"
   ]
  },
  {
   "cell_type": "code",
   "execution_count": 135,
   "id": "dutch-quantum",
   "metadata": {},
   "outputs": [],
   "source": [
    "# Dataframe com dados novos\n",
    "dados_novos<- data.frame(PAY_0,PAY_2,LIMIT_BAL,PAY_3,PAY_AMT1,PAY_4,PAY_AMT2)"
   ]
  },
  {
   "cell_type": "code",
   "execution_count": 136,
   "id": "legendary-warrior",
   "metadata": {},
   "outputs": [
    {
     "data": {
      "text/html": [
       "<table>\n",
       "<thead><tr><th scope=col>PAY_0</th><th scope=col>PAY_2</th><th scope=col>LIMIT_BAL</th><th scope=col>PAY_3</th><th scope=col>PAY_AMT1</th><th scope=col>PAY_4</th><th scope=col>PAY_AMT2</th></tr></thead>\n",
       "<tbody>\n",
       "\t<tr><td>2     </td><td>1     </td><td>50    </td><td>-1    </td><td>1.518 </td><td>1     </td><td>700.00</td></tr>\n",
       "\t<tr><td>2     </td><td>0     </td><td>30    </td><td> 0    </td><td>2.000 </td><td>0     </td><td>  1.00</td></tr>\n",
       "\t<tr><td>0     </td><td>0     </td><td>20    </td><td>-1    </td><td>1.483 </td><td>0     </td><td>  2.04</td></tr>\n",
       "</tbody>\n",
       "</table>\n"
      ],
      "text/latex": [
       "\\begin{tabular}{r|lllllll}\n",
       " PAY\\_0 & PAY\\_2 & LIMIT\\_BAL & PAY\\_3 & PAY\\_AMT1 & PAY\\_4 & PAY\\_AMT2\\\\\n",
       "\\hline\n",
       "\t 2      & 1      & 50     & -1     & 1.518  & 1      & 700.00\\\\\n",
       "\t 2      & 0      & 30     &  0     & 2.000  & 0      &   1.00\\\\\n",
       "\t 0      & 0      & 20     & -1     & 1.483  & 0      &   2.04\\\\\n",
       "\\end{tabular}\n"
      ],
      "text/markdown": [
       "\n",
       "| PAY_0 | PAY_2 | LIMIT_BAL | PAY_3 | PAY_AMT1 | PAY_4 | PAY_AMT2 |\n",
       "|---|---|---|---|---|---|---|\n",
       "| 2      | 1      | 50     | -1     | 1.518  | 1      | 700.00 |\n",
       "| 2      | 0      | 30     |  0     | 2.000  | 0      |   1.00 |\n",
       "| 0      | 0      | 20     | -1     | 1.483  | 0      |   2.04 |\n",
       "\n"
      ],
      "text/plain": [
       "  PAY_0 PAY_2 LIMIT_BAL PAY_3 PAY_AMT1 PAY_4 PAY_AMT2\n",
       "1 2     1     50        -1    1.518    1     700.00  \n",
       "2 2     0     30         0    2.000    0       1.00  \n",
       "3 0     0     20        -1    1.483    0       2.04  "
      ]
     },
     "metadata": {},
     "output_type": "display_data"
    }
   ],
   "source": [
    "# Visualizar os dados\n",
    "head(dados_novos)"
   ]
  },
  {
   "cell_type": "code",
   "execution_count": 137,
   "id": "designing-lying",
   "metadata": {},
   "outputs": [],
   "source": [
    "# Transformando as variáveis em factor\n",
    "dados_novos$PAY_0<- factor(dados_novos$PAY_0)\n",
    "dados_novos$PAY_2<- factor(dados_novos$PAY_2)\n",
    "dados_novos$PAY_3<- factor(dados_novos$PAY_3)\n",
    "dados_novos$PAY_4<- factor(dados_novos$PAY_4)"
   ]
  },
  {
   "cell_type": "code",
   "execution_count": 141,
   "id": "dominant-nirvana",
   "metadata": {},
   "outputs": [],
   "source": [
    "# Normalizando colunas númerica nos novos dados\n",
    "dados_novos_scaled<- dados_novos %>%\n",
    "mutate_if(is.numeric, scale)"
   ]
  },
  {
   "cell_type": "code",
   "execution_count": 144,
   "id": "internal-boost",
   "metadata": {},
   "outputs": [
    {
     "data": {
      "text/html": [
       "<table>\n",
       "<thead><tr><th scope=col>PAY_0</th><th scope=col>PAY_2</th><th scope=col>LIMIT_BAL</th><th scope=col>PAY_3</th><th scope=col>PAY_AMT1</th><th scope=col>PAY_4</th><th scope=col>PAY_AMT2</th></tr></thead>\n",
       "<tbody>\n",
       "\t<tr><td>2         </td><td>1         </td><td> 1.0910895</td><td>-1        </td><td>-0.5157191</td><td>1         </td><td> 1.1546996</td></tr>\n",
       "\t<tr><td>2         </td><td>0         </td><td>-0.2182179</td><td>0         </td><td> 1.1525804</td><td>0         </td><td>-0.5786393</td></tr>\n",
       "\t<tr><td>0         </td><td>0         </td><td>-0.8728716</td><td>-1        </td><td>-0.6368612</td><td>0         </td><td>-0.5760603</td></tr>\n",
       "</tbody>\n",
       "</table>\n"
      ],
      "text/latex": [
       "\\begin{tabular}{r|lllllll}\n",
       " PAY\\_0 & PAY\\_2 & LIMIT\\_BAL & PAY\\_3 & PAY\\_AMT1 & PAY\\_4 & PAY\\_AMT2\\\\\n",
       "\\hline\n",
       "\t 2          & 1          &  1.0910895 & -1         & -0.5157191 & 1          &  1.1546996\\\\\n",
       "\t 2          & 0          & -0.2182179 & 0          &  1.1525804 & 0          & -0.5786393\\\\\n",
       "\t 0          & 0          & -0.8728716 & -1         & -0.6368612 & 0          & -0.5760603\\\\\n",
       "\\end{tabular}\n"
      ],
      "text/markdown": [
       "\n",
       "| PAY_0 | PAY_2 | LIMIT_BAL | PAY_3 | PAY_AMT1 | PAY_4 | PAY_AMT2 |\n",
       "|---|---|---|---|---|---|---|\n",
       "| 2          | 1          |  1.0910895 | -1         | -0.5157191 | 1          |  1.1546996 |\n",
       "| 2          | 0          | -0.2182179 | 0          |  1.1525804 | 0          | -0.5786393 |\n",
       "| 0          | 0          | -0.8728716 | -1         | -0.6368612 | 0          | -0.5760603 |\n",
       "\n"
      ],
      "text/plain": [
       "  PAY_0 PAY_2 LIMIT_BAL  PAY_3 PAY_AMT1   PAY_4 PAY_AMT2  \n",
       "1 2     1      1.0910895 -1    -0.5157191 1      1.1546996\n",
       "2 2     0     -0.2182179 0      1.1525804 0     -0.5786393\n",
       "3 0     0     -0.8728716 -1    -0.6368612 0     -0.5760603"
      ]
     },
     "metadata": {},
     "output_type": "display_data"
    }
   ],
   "source": [
    "# Visualizando os novos dados normalizados\n",
    "head(dados_novos_scaled)"
   ]
  },
  {
   "cell_type": "code",
   "execution_count": 146,
   "id": "minimal-substance",
   "metadata": {},
   "outputs": [
    {
     "data": {
      "text/html": [],
      "text/latex": [],
      "text/markdown": [],
      "text/plain": [
       "character(0)"
      ]
     },
     "metadata": {},
     "output_type": "display_data"
    }
   ],
   "source": [
    "# Fazendo previsões\n",
    "knnPredict_final <- predict(knn_v5, newdata = dados_novos_scaled)"
   ]
  },
  {
   "cell_type": "code",
   "execution_count": 145,
   "id": "exclusive-newman",
   "metadata": {},
   "outputs": [
    {
     "data": {
      "text/html": [
       "<ol class=list-inline>\n",
       "\t<li>Yes</li>\n",
       "\t<li>No</li>\n",
       "\t<li>Yes</li>\n",
       "</ol>\n",
       "\n",
       "<details>\n",
       "\t<summary style=display:list-item;cursor:pointer>\n",
       "\t\t<strong>Levels</strong>:\n",
       "\t</summary>\n",
       "\t<ol class=list-inline>\n",
       "\t\t<li>'Yes'</li>\n",
       "\t\t<li>'No'</li>\n",
       "\t</ol>\n",
       "</details>"
      ],
      "text/latex": [
       "\\begin{enumerate*}\n",
       "\\item Yes\n",
       "\\item No\n",
       "\\item Yes\n",
       "\\end{enumerate*}\n",
       "\n",
       "\\emph{Levels}: \\begin{enumerate*}\n",
       "\\item 'Yes'\n",
       "\\item 'No'\n",
       "\\end{enumerate*}\n"
      ],
      "text/markdown": [
       "1. Yes\n",
       "2. No\n",
       "3. Yes\n",
       "\n",
       "\n",
       "\n",
       "**Levels**: 1. 'Yes'\n",
       "2. 'No'\n",
       "\n",
       "\n"
      ],
      "text/plain": [
       "[1] Yes No  Yes\n",
       "Levels: Yes No"
      ]
     },
     "metadata": {},
     "output_type": "display_data"
    }
   ],
   "source": [
    "# Previsões\n",
    "knnPredict_final"
   ]
  }
 ],
 "metadata": {
  "kernelspec": {
   "display_name": "R",
   "language": "R",
   "name": "ir"
  },
  "language_info": {
   "codemirror_mode": "r",
   "file_extension": ".r",
   "mimetype": "text/x-r-source",
   "name": "R",
   "pygments_lexer": "r",
   "version": "3.6.1"
  }
 },
 "nbformat": 4,
 "nbformat_minor": 5
}
